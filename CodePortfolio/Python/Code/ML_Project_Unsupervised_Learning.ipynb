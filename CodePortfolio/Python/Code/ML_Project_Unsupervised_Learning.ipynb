{
 "cells": [
  {
   "cell_type": "markdown",
   "metadata": {},
   "source": [
    "# An example of unsupervised learning - using K-Means clustering and Gaussian Mixture"
   ]
  },
  {
   "cell_type": "code",
   "execution_count": 63,
   "metadata": {},
   "outputs": [],
   "source": [
    "# Dataset used - http://ggobi.org/book/data/olive.csv\n",
    "# The data contains the percentage of fatty acid in composition of Olive Oil \n",
    "# and is used to check the authenticity of the olive oil.\n",
    "#\n",
    "\n",
    "# Import the required packages\n",
    "import numpy as np\n",
    "import pandas as pd\n",
    "import matplotlib.pyplot as plt\n",
    "from sklearn.mixture import GaussianMixture\n",
    "from sklearn.cluster import KMeans\n",
    "from sklearn.preprocessing import StandardScaler\n",
    "from sklearn.decomposition import PCA\n",
    "from sklearn.cross_validation import train_test_split\n",
    "import warnings\n",
    "warnings.filterwarnings('ignore')"
   ]
  },
  {
   "cell_type": "code",
   "execution_count": 18,
   "metadata": {},
   "outputs": [
    {
     "name": "stdout",
     "output_type": "stream",
     "text": [
      "Raw Header :\n",
      " Index(['region', 'area', 'palmitic', 'palmitoleic', 'stearic', 'oleic',\n",
      "       'linoleic', 'linolenic', 'arachidic', 'eicosenoic'],\n",
      "      dtype='object') \n",
      "\n",
      "\n",
      "\n",
      "Description of the data : \n",
      "\n"
     ]
    },
    {
     "data": {
      "text/html": [
       "<div>\n",
       "<style scoped>\n",
       "    .dataframe tbody tr th:only-of-type {\n",
       "        vertical-align: middle;\n",
       "    }\n",
       "\n",
       "    .dataframe tbody tr th {\n",
       "        vertical-align: top;\n",
       "    }\n",
       "\n",
       "    .dataframe thead th {\n",
       "        text-align: right;\n",
       "    }\n",
       "</style>\n",
       "<table border=\"1\" class=\"dataframe\">\n",
       "  <thead>\n",
       "    <tr style=\"text-align: right;\">\n",
       "      <th></th>\n",
       "      <th>region</th>\n",
       "      <th>area</th>\n",
       "      <th>palmitic</th>\n",
       "      <th>palmitoleic</th>\n",
       "      <th>stearic</th>\n",
       "      <th>oleic</th>\n",
       "      <th>linoleic</th>\n",
       "      <th>linolenic</th>\n",
       "      <th>arachidic</th>\n",
       "      <th>eicosenoic</th>\n",
       "    </tr>\n",
       "  </thead>\n",
       "  <tbody>\n",
       "    <tr>\n",
       "      <th>count</th>\n",
       "      <td>572.000000</td>\n",
       "      <td>572.000000</td>\n",
       "      <td>572.000000</td>\n",
       "      <td>572.000000</td>\n",
       "      <td>572.000000</td>\n",
       "      <td>572.000000</td>\n",
       "      <td>572.000000</td>\n",
       "      <td>572.000000</td>\n",
       "      <td>572.000000</td>\n",
       "      <td>572.000000</td>\n",
       "    </tr>\n",
       "    <tr>\n",
       "      <th>mean</th>\n",
       "      <td>1.699301</td>\n",
       "      <td>4.599650</td>\n",
       "      <td>1231.741259</td>\n",
       "      <td>126.094406</td>\n",
       "      <td>228.865385</td>\n",
       "      <td>7311.748252</td>\n",
       "      <td>980.527972</td>\n",
       "      <td>31.888112</td>\n",
       "      <td>58.097902</td>\n",
       "      <td>16.281469</td>\n",
       "    </tr>\n",
       "    <tr>\n",
       "      <th>std</th>\n",
       "      <td>0.859968</td>\n",
       "      <td>2.356687</td>\n",
       "      <td>168.592264</td>\n",
       "      <td>52.494365</td>\n",
       "      <td>36.744935</td>\n",
       "      <td>405.810222</td>\n",
       "      <td>242.799221</td>\n",
       "      <td>12.968697</td>\n",
       "      <td>22.030250</td>\n",
       "      <td>14.083295</td>\n",
       "    </tr>\n",
       "    <tr>\n",
       "      <th>min</th>\n",
       "      <td>1.000000</td>\n",
       "      <td>1.000000</td>\n",
       "      <td>610.000000</td>\n",
       "      <td>15.000000</td>\n",
       "      <td>152.000000</td>\n",
       "      <td>6300.000000</td>\n",
       "      <td>448.000000</td>\n",
       "      <td>0.000000</td>\n",
       "      <td>0.000000</td>\n",
       "      <td>1.000000</td>\n",
       "    </tr>\n",
       "    <tr>\n",
       "      <th>25%</th>\n",
       "      <td>1.000000</td>\n",
       "      <td>3.000000</td>\n",
       "      <td>1095.000000</td>\n",
       "      <td>87.750000</td>\n",
       "      <td>205.000000</td>\n",
       "      <td>7000.000000</td>\n",
       "      <td>770.750000</td>\n",
       "      <td>26.000000</td>\n",
       "      <td>50.000000</td>\n",
       "      <td>2.000000</td>\n",
       "    </tr>\n",
       "    <tr>\n",
       "      <th>50%</th>\n",
       "      <td>1.000000</td>\n",
       "      <td>3.000000</td>\n",
       "      <td>1201.000000</td>\n",
       "      <td>110.000000</td>\n",
       "      <td>223.000000</td>\n",
       "      <td>7302.500000</td>\n",
       "      <td>1030.000000</td>\n",
       "      <td>33.000000</td>\n",
       "      <td>61.000000</td>\n",
       "      <td>17.000000</td>\n",
       "    </tr>\n",
       "    <tr>\n",
       "      <th>75%</th>\n",
       "      <td>3.000000</td>\n",
       "      <td>7.000000</td>\n",
       "      <td>1360.000000</td>\n",
       "      <td>169.250000</td>\n",
       "      <td>249.000000</td>\n",
       "      <td>7680.000000</td>\n",
       "      <td>1180.750000</td>\n",
       "      <td>40.250000</td>\n",
       "      <td>70.000000</td>\n",
       "      <td>28.000000</td>\n",
       "    </tr>\n",
       "    <tr>\n",
       "      <th>max</th>\n",
       "      <td>3.000000</td>\n",
       "      <td>9.000000</td>\n",
       "      <td>1753.000000</td>\n",
       "      <td>280.000000</td>\n",
       "      <td>375.000000</td>\n",
       "      <td>8410.000000</td>\n",
       "      <td>1470.000000</td>\n",
       "      <td>74.000000</td>\n",
       "      <td>105.000000</td>\n",
       "      <td>58.000000</td>\n",
       "    </tr>\n",
       "  </tbody>\n",
       "</table>\n",
       "</div>"
      ],
      "text/plain": [
       "           region        area     palmitic  palmitoleic     stearic  \\\n",
       "count  572.000000  572.000000   572.000000   572.000000  572.000000   \n",
       "mean     1.699301    4.599650  1231.741259   126.094406  228.865385   \n",
       "std      0.859968    2.356687   168.592264    52.494365   36.744935   \n",
       "min      1.000000    1.000000   610.000000    15.000000  152.000000   \n",
       "25%      1.000000    3.000000  1095.000000    87.750000  205.000000   \n",
       "50%      1.000000    3.000000  1201.000000   110.000000  223.000000   \n",
       "75%      3.000000    7.000000  1360.000000   169.250000  249.000000   \n",
       "max      3.000000    9.000000  1753.000000   280.000000  375.000000   \n",
       "\n",
       "             oleic     linoleic   linolenic   arachidic  eicosenoic  \n",
       "count   572.000000   572.000000  572.000000  572.000000  572.000000  \n",
       "mean   7311.748252   980.527972   31.888112   58.097902   16.281469  \n",
       "std     405.810222   242.799221   12.968697   22.030250   14.083295  \n",
       "min    6300.000000   448.000000    0.000000    0.000000    1.000000  \n",
       "25%    7000.000000   770.750000   26.000000   50.000000    2.000000  \n",
       "50%    7302.500000  1030.000000   33.000000   61.000000   17.000000  \n",
       "75%    7680.000000  1180.750000   40.250000   70.000000   28.000000  \n",
       "max    8410.000000  1470.000000   74.000000  105.000000   58.000000  "
      ]
     },
     "execution_count": 18,
     "metadata": {},
     "output_type": "execute_result"
    }
   ],
   "source": [
    "# Read the CSV file and load the data\n",
    "\n",
    "oliveData = pd.read_csv(\"olive.csv\")\n",
    "print(\"Raw Header :\\n\" , oliveData.columns , \"\\n\")\n",
    "print(\"\\n\\nDescription of the data : \\n\")\n",
    "oliveData.describe()"
   ]
  },
  {
   "cell_type": "code",
   "execution_count": 64,
   "metadata": {},
   "outputs": [
    {
     "name": "stdout",
     "output_type": "stream",
     "text": [
      "Explained Variance:  [0.46517625 0.22072469] \n",
      "\n",
      "\n",
      "        pc1       pc2\n",
      "0  1.576741  1.493914\n",
      "1  1.323847  1.073212\n",
      "2  2.851595  1.894557\n",
      "3  1.747849  3.024521\n",
      "4  0.915511  3.298495\n",
      "\n",
      "\n",
      "Train size : 457 \n",
      "Test Size : 115\n"
     ]
    }
   ],
   "source": [
    "# We drop the unwanted column - Area and also the target column Region as it is not needed for unsupervised learning\n",
    "# Then e prep the data. Standardize the data and then make the data 2 dimensional \n",
    "# using Principal Components Analysis. Then we create the Train and Test sets\n",
    "\n",
    "features = ['palmitic', 'palmitoleic', 'stearic', 'oleic', 'linoleic', 'linolenic','arachidic', 'eicosenoic']\n",
    "\n",
    "# Separating out the features\n",
    "x = oliveData.loc[:, features].values\n",
    "\n",
    "# Extract the target\n",
    "y = oliveData.loc[:,['region']].values\n",
    "\n",
    "x = StandardScaler().fit_transform(x)\n",
    "\n",
    "pca = PCA(n_components=2)\n",
    "x = pca.fit_transform(x)\n",
    "\n",
    "explained_variance = pca.explained_variance_ratio_\n",
    "print(\"Explained Variance: \", explained_variance , \"\\n\\n\")\n",
    "\n",
    "oliveDF = pd.DataFrame(data = x , columns = ['pc1', 'pc2'])\n",
    "print(oliveDF.head())\n",
    "\n",
    "X_Train, X_Test = train_test_split( oliveDF, test_size=0.20, random_state=45)\n",
    "print(\"\\n\\nTrain size :\",len(X_Train),\"\\nTest Size :\",len(X_Test))"
   ]
  },
  {
   "cell_type": "code",
   "execution_count": 62,
   "metadata": {},
   "outputs": [
    {
     "data": {
      "image/png": "[encoded data removed]",
      "text/plain": [
       "<Figure size 432x288 with 1 Axes>"
      ]
     },
     "metadata": {},
     "output_type": "display_data"
    }
   ],
   "source": [
    "plt.scatter(X_Test.iloc[:,0],X_Test.iloc[:,1],c='red')\n",
    "plt.title('Before Clustering')\n",
    "plt.show()"
   ]
  },
  {
   "cell_type": "code",
   "execution_count": 57,
   "metadata": {},
   "outputs": [
    {
     "data": {
      "image/png": "[encoded data removed]",
      "text/plain": [
       "<Figure size 432x288 with 1 Axes>"
      ]
     },
     "metadata": {},
     "output_type": "display_data"
    }
   ],
   "source": [
    "kmeans = KMeans(n_clusters=4)\n",
    "kmeans.fit(X_Train)\n",
    "centroids = kmeans.cluster_centers_\n",
    "labels = kmeans.predict(X_Test)\n",
    "plt.scatter(X_Test.iloc[:,0],X_Test.iloc[:,1],c=labels)\n",
    "for idx, centroid in enumerate(centroids):\n",
    "    plt.plot(centroid[0], centroid[1], color='red', marker='*', ms=10)\n",
    "plt.title('Using Kmeans')\n",
    "plt.show()"
   ]
  },
  {
   "cell_type": "code",
   "execution_count": 59,
   "metadata": {},
   "outputs": [
    {
     "name": "stdout",
     "output_type": "stream",
     "text": [
      "Converged: True\n"
     ]
    },
    {
     "data": {
      "image/png": "[encoded data removed]",
      "text/plain": [
       "<Figure size 432x288 with 1 Axes>"
      ]
     },
     "metadata": {},
     "output_type": "display_data"
    }
   ],
   "source": [
    "#Gaussian Mixture\n",
    "GMM = GaussianMixture(n_components=4).fit(X_Train)\n",
    "labels = GMM.predict(X_Test)\n",
    "converged = GMM.converged_\n",
    "print('Converged:', converged) # To validate if the data has converged\n",
    "plt.scatter(X_Test.iloc[:,0],X_Test.iloc[:,1],c=labels)\n",
    "plt.title('Using Gaussian Mixture')\n",
    "plt.show()"
   ]
  },
  {
   "cell_type": "markdown",
   "metadata": {},
   "source": [
    "As can be seen above both KMeans and GaussianMixture algorithm result into 4 clusters as expected"
   ]
  }
 ],
 "metadata": {
  "kernelspec": {
   "display_name": "Python 3",
   "language": "python",
   "name": "python3"
  },
  "language_info": {
   "codemirror_mode": {
    "name": "ipython",
    "version": 3
   },
   "file_extension": ".py",
   "mimetype": "text/x-python",
   "name": "python",
   "nbconvert_exporter": "python",
   "pygments_lexer": "ipython3",
   "version": "3.6.5"
  }
 },
 "nbformat": 4,
 "nbformat_minor": 2
}
