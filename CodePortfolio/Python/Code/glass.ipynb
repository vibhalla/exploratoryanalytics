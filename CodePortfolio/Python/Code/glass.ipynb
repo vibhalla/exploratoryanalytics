import pandas as pd
from sklearn import svm
import matplotlib.pyplot as plt

#Dataset used: https://archive.ics.uci.edu/ml/datasets/Glass+Identification
glassData = pd.read_csv("glass_data.csv")
print(glassData.columns)
#print(glassData)
glassData = glassData.sample(frac=1)
glassTrain = glassData.iloc[0:int(glassData.shape[0]/2),]
glassTest = glassData.iloc[int(glassData.shape[0]/2):,]
glassTrainFeat = glassTrain[['RI', 'Na', 'Mg', 'Al', 'Si', 'K', 'Ca', 'Ba', 'Fe']]
glassTrainAct = glassTrain["Type_Of_Glass"].tolist()
glassTestFeat = glassTrain[['RI', 'Na', 'Mg', 'Al', 'Si', 'K', 'Ca', 'Ba', 'Fe']]
glassTestAct = glassTrain["Type_Of_Glass"].tolist()
#print(glassTrainFeat.head())
#print(glassTrainPred)

regPar = .4
svcLnr = svm.SVC(kernel='linear', C=regPar)
svcLnr.fit(glassTrainFeat,glassTrainAct)

glassTrainPred = svcLnr.predict(glassTrainFeat)
glassTestPred = svcLnr.predict(glassTestFeat)
#print(glassTrainPred,glassTestPred)
print("Training Accuracy: ", 100*sum(glassTrainAct == glassTrainPred)/len(glassTrainPred), "%")
print("Testing Accuracy: ", 100*sum(glassTestAct == glassTestPred)/len(glassTestPred), "%")

#rbf_svc = svm.SVC(kernel='rbf', gamma=20, C=C).fit(X, y)
#poly_svc = svm.SVC(kernel='poly', degree=5, C=C).fit(X, y)
#lin_svc = svm.LinearSVC(C=C).fit(X, y)