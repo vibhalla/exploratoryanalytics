{
 "cells": [
  {
   "cell_type": "code",
   "execution_count": 18,
   "metadata": {},
   "outputs": [
    {
     "name": "stdout",
     "output_type": "stream",
     "text": [
      "Index(['ID', 'RI', 'Na', 'Mg', 'Al', 'Si', 'K', 'Ca', 'Ba', 'Fe',\n",
      "       'Type_Of_Glass'],\n",
      "      dtype='object')\n",
      "Accuracy for individual loops:  [0.5238095238095238, 0.20930232558139536, 0.4883720930232558, 0.3953488372093023, 0.3953488372093023]\n",
      "Average Accuracy: 0.4024363233665559\n"
     ]
    }
   ],
   "source": [
    "import pandas as pd\n",
    "import numpy as np\n",
    "from sklearn import svm\n",
    "import matplotlib.pyplot as plt\n",
    "from sklearn.naive_bayes import GaussianNB\n",
    "from sklearn.metrics import accuracy_score\n",
    "\n",
    "#Dataset used: https://archive.ics.uci.edu/ml/datasets/Glass+Identification\n",
    "\n",
    "glassData = pd.read_csv(\"glass_data.csv\")\n",
    "print(glassData.columns)\n",
    "#glassData = glassData.tail()\n",
    "glassData = glassData.sample(frac=1)\n",
    "\n",
    "nb_gaussianlearner = GaussianNB()\n",
    "accuracy = []\n",
    "k = 5 #number of folds\n",
    "i = k + 1\n",
    "\n",
    "dataSplit = np.array_split(glassData,k)\n",
    "while i != 0:\n",
    "    for splits in range(0,k):\n",
    "        testDataFeature = []\n",
    "        testDataClassPred = []\n",
    "        #print(splits,i)\n",
    "        if (splits != i-1):\n",
    "        #print(\"Training Split : \",splits)\n",
    "            dataTrainFeature = dataSplit[splits][['RI', 'Na', 'Mg', 'Al', 'Si', 'K', 'Ca', 'Ba', 'Fe']]\n",
    "            dataTrainClass = dataSplit[splits][\"Type_Of_Glass\"].tolist()\n",
    "            nb_train = nb_gaussianlearner.fit(dataTrainFeature,dataTrainClass)\n",
    "        else:\n",
    "            dataTestFeature = dataSplit[splits][['RI', 'Na', 'Mg', 'Al', 'Si', 'K', 'Ca', 'Ba', 'Fe']]\n",
    "            dataTestClassActual = dataSplit[splits][\"Type_Of_Glass\"].tolist()\n",
    "            nb_predict = nb_gaussianlearner.predict(dataTestFeature)\n",
    "            accuracy.append(accuracy_score(dataTestClassActual,nb_predict))\n",
    "    i = i -1\n",
    "print(\"Accuracy for individual loops: \",accuracy)\n",
    "pred = 0\n",
    "for occur in accuracy:\n",
    "    pred = pred + occur\n",
    "print(\"Average Accuracy:\", pred/k)"
   ]
  },
  {
   "cell_type": "code",
   "execution_count": null,
   "metadata": {},
   "outputs": [],
   "source": [
    "The dataset used is https://archive.ics.uci.edu/ml/datasets/Glass+Identification. \n",
    "The data features are the percentages of each element present in the glass and \n",
    "accordingly the \"Type of Glass\" is idenified.\n"
   ]
  }
 ],
 "metadata": {
  "kernelspec": {
   "display_name": "Python 3",
   "language": "python",
   "name": "python3"
  },
  "language_info": {
   "codemirror_mode": {
    "name": "ipython",
    "version": 3
   },
   "file_extension": ".py",
   "mimetype": "text/x-python",
   "name": "python",
   "nbconvert_exporter": "python",
   "pygments_lexer": "ipython3",
   "version": "3.6.5"
  }
 },
 "nbformat": 4,
 "nbformat_minor": 2
}
