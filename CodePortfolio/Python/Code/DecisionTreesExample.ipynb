{
 "cells": [
  {
   "cell_type": "markdown",
   "metadata": {},
   "source": [
    "## Importing Data and Allocating Feature Matrix and Classification Column"
   ]
  },
  {
   "cell_type": "code",
   "execution_count": null,
   "metadata": {
    "collapsed": false
   },
   "outputs": [],
   "source": [
    "import pandas as pd\n",
    "from sklearn import tree\n",
    "\n",
    "#Ficticious dataset which discerns what type of Ken does Barbie like?\n",
    "barbie_boy_preference_ds = pd.read_csv(\"BarbieBoyPreferenceFicticiousDataset.csv\")\n",
    "print(barbie_boy_preference_ds)\n",
    "\n",
    "#Preparing the the training features X to be the columns: Muscular, Blonde, and Tall\n",
    "#Preparing the classification label Y to be the column: FallInLoveWith\n",
    "barbie_X = barbie_boy_preference_ds.iloc[:, :3]\n",
    "barbie_Y = barbie_boy_preference_ds.iloc[:, 3:4]"
   ]
  },
  {
   "cell_type": "markdown",
   "metadata": {},
   "source": [
    "## Training a Decision Tree Classifier Using Sklearn Package"
   ]
  },
  {
   "cell_type": "code",
   "execution_count": null,
   "metadata": {
    "collapsed": false
   },
   "outputs": [],
   "source": [
    "#Creating a DecisionTreeClassifier object and creating the tree based on our X, Y data, where we try to predict Y from X\n",
    "barbie_decision_tree = tree.DecisionTreeClassifier()\n",
    "barbie_decision_tree = barbie_decision_tree.fit(barbie_X, barbie_Y)"
   ]
  },
  {
   "cell_type": "markdown",
   "metadata": {},
   "source": [
    "## Exporting the Decision Tree to Graphviz so That it can be Easily Visualized"
   ]
  },
  {
   "cell_type": "code",
   "execution_count": null,
   "metadata": {
    "collapsed": false
   },
   "outputs": [],
   "source": [
    "barbie_featurenames = list(barbie_X.columns.values)\n",
    "barbie_classes = ['0','1']\n",
    "\n",
    "tree.export_graphviz(barbie_decision_tree, out_file = 'barbie.dot', \n",
    "                         feature_names = barbie_featurenames,  \n",
    "                         class_names = barbie_classes,  \n",
    "                         filled=True, rounded=True)  \n",
    "#Check generated file called barbie.dot, open it in notepad or editor of choice, then launch it in the following site:\n",
    "#http://webgraphviz.com/\n",
    "#i.e. copy the contents of barbie.dot in the input text-box and then click \"Generate Graph!\""
   ]
  },
  {
   "cell_type": "markdown",
   "metadata": {},
   "source": [
    "## More Complex Dataset Predicting Quality of a TA"
   ]
  },
  {
   "cell_type": "code",
   "execution_count": null,
   "metadata": {
    "collapsed": false
   },
   "outputs": [],
   "source": [
    "import pandas as pd\n",
    "from sklearn import tree\n",
    "\n",
    "#Dataset used: https://archive.ics.uci.edu/ml/datasets/Teaching+Assistant+Evaluation\n",
    "ta_eval_raw = pd.read_csv(\"tae.data\")\n",
    "#print(ta_eval_raw)\n",
    "\n",
    "#Preparing the the training features X to be the columns: EnglishSpeaker, CourseInstructorType, CourseType, SummerOrRegular, and ClassSize\n",
    "#Preparing the classification label Y to be the column: ClassEvaluationAttribute\n",
    "ta_eval_X = ta_eval_raw.iloc[:, :5]\n",
    "ta_eval_Y = ta_eval_raw.iloc[:, 5:6]\n",
    "\n",
    "#Creating a DecisionTreeClassifier object and creating the tree based on our X, Y data, where we try to predict Y from X\n",
    "#Non-Regularized Tree (this tree will be fairly deep which means it will not generalize well)\n",
    "#decision_tree = tree.DecisionTreeClassifier()\n",
    "#Regularized tree (will generalize well)\n",
    "decision_tree = tree.DecisionTreeClassifier(min_samples_leaf=5, max_depth=5)\n",
    "\n",
    "decision_tree = decision_tree.fit(ta_eval_X, ta_eval_Y)\n",
    "\n",
    "ta_eval_featurenames = list(ta_eval_X.columns.values)\n",
    "ta_eval_Y_Classes = ['1','2','3']\n",
    "\n",
    "tree.export_graphviz(decision_tree, out_file = 'ta_eval.dot', \n",
    "                         feature_names = ta_eval_featurenames,  \n",
    "                         class_names = ta_eval_Y_Classes,  \n",
    "                         filled=True, rounded=True)  \n",
    "\n",
    "#Check generated file called ta_eval.dot, open it in notepad or editor of choice, then launch it in the following site:\n",
    "#http://webgraphviz.com/\n",
    "#i.e. copy the contents of barbie.dot in the input text-box and then click \"Generate Graph!\"\n"
   ]
  }
 ],
 "metadata": {
  "kernelspec": {
   "display_name": "Python 3",
   "language": "python",
   "name": "python3"
  },
  "language_info": {
   "codemirror_mode": {
    "name": "ipython",
    "version": 3
   },
   "file_extension": ".py",
   "mimetype": "text/x-python",
   "name": "python",
   "nbconvert_exporter": "python",
   "pygments_lexer": "ipython3",
   "version": "3.5.1"
  }
 },
 "nbformat": 4,
 "nbformat_minor": 0
}
