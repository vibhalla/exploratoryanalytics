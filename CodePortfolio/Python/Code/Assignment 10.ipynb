{
 "cells": [
  {
   "cell_type": "code",
   "execution_count": 39,
   "metadata": {},
   "outputs": [],
   "source": [
    "import pandas as pd\n",
    "import numpy as np\n",
    "import random\n",
    "import matplotlib.pyplot as plt\n",
    "from sklearn.linear_model import LogisticRegression\n",
    "from sklearn.cross_validation import cross_val_score as cvs\n",
    "\n",
    "tc_raw = pd.read_csv(\"tic-tac-toe.txt\")\n",
    "for column in tc_raw:\n",
    "    tc_raw[column] = tc_raw[column].astype('category')\n",
    "    tc_raw[column] = tc_raw[column].cat.codes\n",
    "    \n",
    "trng_data = tc_raw.sample(frac=0.5, replace=False)\n",
    "test_data = tc_raw.sample(frac=0.5, replace=False)\n",
    "\n",
    "Y_train = trng_data['class'].values\n",
    "X_train = trng_data[['top-left-square', 'top-middle-square', 'top-right-square',\n",
    " 'middle-left-square', 'middle-middle-square', 'middle-right-square',\n",
    " 'bottom-left-square', 'bottom-middle-square', 'bottom-right-square']].values\n",
    "\n",
    "Y_test = test_data['class'].values\n",
    "X_test = test_data[['top-left-square', 'top-middle-square', 'top-right-square',\n",
    " 'middle-left-square', 'middle-middle-square', 'middle-right-square',\n",
    " 'bottom-left-square', 'bottom-middle-square', 'bottom-right-square']].values\n",
    "\n"
   ]
  },
  {
   "cell_type": "code",
   "execution_count": 32,
   "metadata": {},
   "outputs": [
    {
     "name": "stdout",
     "output_type": "stream",
     "text": [
      "Using sklearn functions :  67.84968684759917 %\n",
      "Using Cross Validation with sklearn functions :  [0.63265306 0.70833333 0.6875     0.77083333 0.625      0.72916667\n",
      " 0.6875     0.64583333 0.63829787 0.74468085]\n"
     ]
    }
   ],
   "source": [
    "#print(trng_data.head(),test_data.head())\n",
    "logReg = LogisticRegression(solver='newton-cg')\n",
    "logReg.fit(X_train,Y_train)\n",
    "predTest = logReg.predict(X_test)\n",
    "#print(predTest)\n",
    "score = logReg.score(X_test, Y_test)\n",
    "print('Using sklearn functions : ' , score*100 ,'%')\n",
    "\n",
    "cvsScore = cvs(logReg, X_test, Y_test, scoring='accuracy', cv=10)\n",
    "print('Using Cross Validation with sklearn functions : ', cvsScore)"
   ]
  },
  {
   "cell_type": "code",
   "execution_count": 46,
   "metadata": {},
   "outputs": [
    {
     "name": "stdout",
     "output_type": "stream",
     "text": [
      "Using python and jupyter\n",
      "Evaluated value of w: [0.23454711 0.9013282  0.86214541 1.10653618 0.80001858 0.7119123\n",
      " 0.53606383 1.13565012 0.94190123]\n",
      "Newton Raphson Prediction Accuracy: 64.71816283924844\n"
     ]
    }
   ],
   "source": [
    "print('Using python and jupyter')\n",
    "w = np.array([random.random() for x in range(X_train.shape[1])])\n",
    "epochs = 10\n",
    "I = np.eye(w.shape[0])\n",
    "#print('Initiating Variables : ', w,epochs,I)\n",
    "for e in range(0, epochs):\n",
    "    trng_data = trng_data.sample(frac=1, replace=False)\n",
    "    Y_train = trng_data['class'].values\n",
    "    X_train = trng_data[['top-left-square', 'top-middle-square', 'top-right-square',\n",
    " 'middle-left-square', 'middle-middle-square', 'middle-right-square',\n",
    " 'bottom-left-square', 'bottom-middle-square', 'bottom-right-square']].values\n",
    "    eta_initial = .5\n",
    "    s_loc = 0\n",
    "    for x_s in X_train:\n",
    "        #find the gradient\n",
    "        gradient = np.dot(x_s.transpose(), Y_train[s_loc]-(1/(1+np.exp(np.dot(x_s, -w)))))\n",
    "        #Sigmoid function for Hessian\n",
    "        P =(1/(1+np.exp(np.dot(x_s, -w))))\n",
    "        #Hessian\n",
    "        H = np.dot(np.dot(np.dot(x_s.transpose(), P), I-P), x_s)\n",
    "        #adjust the eta rate\n",
    "        eta = eta_initial/(s_loc + 1)\n",
    "        #adjusting the weights using the Newton Raphson Method\n",
    "        w = w + eta*gradient/H\n",
    "        s_loc = s_loc + 1\n",
    "    \n",
    "print(\"Evaluated value of w:\", w)\n",
    "\n",
    "testPredAll = []\n",
    "testPred = 1/(1+np.exp(np.dot(X_test, -w)))\n",
    "#print(testPred)\n",
    "for tp in testPred:\n",
    "    if tp < .5:\n",
    "        testPredAll.append(0)\n",
    "    elif tp >= .5:\n",
    "        testPredAll.append(1)\n",
    "\n",
    "\n",
    "print(\"Newton Raphson Prediction Accuracy:\", 100*sum(testPredAll == Y_train)/len(testPredAll))\n",
    "    "
   ]
  },
  {
   "cell_type": "markdown",
   "metadata": {},
   "source": [
    "The starting values of ETA choosed and varied between .01 and 1. \n",
    "Finally settelled on .5 as it gave the maximum accuracy at 64.7%. The number of epochs varied between 1 - 100 \n",
    "then setteled on 10 as it was not affecting the prediction accuracy."
   ]
  },
  {
   "cell_type": "code",
   "execution_count": null,
   "metadata": {},
   "outputs": [],
   "source": []
  }
 ],
 "metadata": {
  "kernelspec": {
   "display_name": "Python 3",
   "language": "python",
   "name": "python3"
  },
  "language_info": {
   "codemirror_mode": {
    "name": "ipython",
    "version": 3
   },
   "file_extension": ".py",
   "mimetype": "text/x-python",
   "name": "python",
   "nbconvert_exporter": "python",
   "pygments_lexer": "ipython3",
   "version": "3.6.5"
  }
 },
 "nbformat": 4,
 "nbformat_minor": 2
}
