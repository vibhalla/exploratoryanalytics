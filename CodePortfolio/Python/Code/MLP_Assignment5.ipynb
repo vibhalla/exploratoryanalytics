{
 "cells": [
  {
   "cell_type": "code",
   "execution_count": 35,
   "metadata": {},
   "outputs": [
    {
     "name": "stdout",
     "output_type": "stream",
     "text": [
      "Train size : 3456 \n",
      "Test Size : 865\n",
      "Accuracy : 74.68208092485548\n"
     ]
    }
   ],
   "source": [
    "from sklearn.cross_validation import train_test_split\n",
    "from sklearn.naive_bayes import MultinomialNB\n",
    "from sklearn.feature_extraction.text import CountVectorizer\n",
    "from sklearn.feature_extraction.text import TfidfTransformer\n",
    "\n",
    "rawFile=\"testSet.txt\" #file containing raw data\n",
    "cleanedFile=\"cleanTestSet.txt\" #file containing processed data\n",
    "file=open(rawFile)\n",
    "writeFile=open(cleanedFile,\"w\")\n",
    "specialChars = \"[,!.?#@=\\n]\"\n",
    "revNum = 0\n",
    "arrFnl = []\n",
    "lblFnl = []\n",
    "#clean the data\n",
    "for line in file:\n",
    "    line=line.lower().replace(\"\\t\",\" \")\n",
    "    line=re.sub(specialChars,\"\",line)\n",
    "    arr=line.split(\" \")\n",
    "    if revNum < 2989:\n",
    "        label=\"1\" #1 for positive review and 0 for negative\n",
    "    else:\n",
    "        label=\"0\"\n",
    "#    arrFnl.append(arr)\n",
    "#    lblFnl.append(label)\n",
    "    words= \" \".join(word for word in arr[1:len(arr)])\n",
    "    writeBack=label+\",\"+words\n",
    "    writeFile.write(writeBack)\n",
    "    writeFile.write(\"\\n\")\n",
    "    revNum = revNum + 1\n",
    "file.close()\n",
    "writeFile.close()\n",
    "\n",
    "file = open(cleanedFile)# read the processed file\n",
    "label=[]\n",
    "data=[]\n",
    "for line in file:\n",
    "    arr=line.replace(\"\\n\",\"\").split(\",\")\n",
    "    lblFnl.append(arr[0])\n",
    "    arrFnl.append(arr[1].replace(\"\\n\",\"\"))\n",
    "    \n",
    "X_Train, X_Test, Y_Train, Y_Test = train_test_split( arrFnl, lblFnl, test_size=0.20, random_state=45)\n",
    "print(\"Train size :\",len(X_Train),\"\\nTest Size :\",len(X_Test))\n",
    "\n",
    "countVect = CountVectorizer()\n",
    "X_trnCnts = countVect.fit_transform(X_Train) \n",
    "tfidfTrnsfrmr = TfidfTransformer()\n",
    "X_trnTfidf = tfidfTrnsfrmr.fit_transform(X_trnCnts)\n",
    "\n",
    "model=MultinomialNB(fit_prior=True)\n",
    "model.fit(X_trnTfidf,Y_Train)\n",
    "\n",
    "X_tstCnts = countVect.transform(X_Test)\n",
    "X_tstTfidf = tfidfTrnsfrmr.transform(X_tstCnts)\n",
    "predLabel = model.predict(X_tstTfidf)\n",
    "print(\"Accuracy :\",np.mean(predLabel==Y_Test)*100)"
   ]
  },
  {
   "cell_type": "code",
   "execution_count": null,
   "metadata": {},
   "outputs": [],
   "source": []
  }
 ],
 "metadata": {
  "kernelspec": {
   "display_name": "Python 3",
   "language": "python",
   "name": "python3"
  },
  "language_info": {
   "codemirror_mode": {
    "name": "ipython",
    "version": 3
   },
   "file_extension": ".py",
   "mimetype": "text/x-python",
   "name": "python",
   "nbconvert_exporter": "python",
   "pygments_lexer": "ipython3",
   "version": "3.6.5"
  }
 },
 "nbformat": 4,
 "nbformat_minor": 2
}
