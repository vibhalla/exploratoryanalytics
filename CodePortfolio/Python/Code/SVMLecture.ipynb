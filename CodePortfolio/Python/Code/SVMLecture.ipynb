{
 "cells": [
  {
   "cell_type": "markdown",
   "metadata": {},
   "source": [
    "## Simple Classification Using SVM"
   ]
  },
  {
   "cell_type": "code",
   "execution_count": null,
   "metadata": {
    "collapsed": false
   },
   "outputs": [],
   "source": [
    "import pandas as pd\n",
    "from sklearn import svm\n",
    "import matplotlib.pyplot as plt\n",
    "\n",
    "#Flags dataset used: https://archive.ics.uci.edu/ml/datasets/Flags\n",
    "flags_raw = pd.read_csv(\"FlagsDataset.txt\")\n",
    "\n",
    "#Converting the string object columns to categorical integers as needed for SVD solvers\n",
    "#The Python SVD solvers take a numerical matrix as input so string format is not allowed\n",
    "flags_raw['NameOfCountry'] = flags_raw['NameOfCountry'].astype('category')\n",
    "flags_raw['NameOfCountry'] = flags_raw['NameOfCountry'].cat.codes\n",
    "flags_raw['Topleft'] = flags_raw['Topleft'].astype('category')\n",
    "flags_raw['Topleft'] = flags_raw['Topleft'].cat.codes\n",
    "flags_raw['Botright'] = flags_raw['Botright'].astype('category')\n",
    "flags_raw['Botright'] = flags_raw['Botright'].cat.codes\n",
    "flags_raw['Mainhue'] = flags_raw['Mainhue'].astype('category')\n",
    "flags_raw['Mainhue'] = flags_raw['Mainhue'].cat.codes\n",
    "\n",
    "#Using holdout set cross-validation method here\n",
    "#Randomize data\n",
    "flags_raw = flags_raw.sample(frac=1)\n",
    "flags_training = flags_raw.iloc[0:int(flags_raw.shape[0]/2),]\n",
    "flags_test = flags_raw.iloc[int(flags_raw.shape[0]/2):,]"
   ]
  },
  {
   "cell_type": "code",
   "execution_count": null,
   "metadata": {
    "collapsed": false
   },
   "outputs": [],
   "source": [
    "#Predicting which flag has the color red as part of the design\n",
    "\n",
    "#The training features are all the features except the Red feature (that's the one we want to predict)\n",
    "features_train = flags_training[['NameOfCountry', 'Landmass', 'Zone', 'Area', 'Population', \\\n",
    "                                 'Language', 'Religion', 'Bars', 'Stripes', 'Colours', 'Green',\\\n",
    "                                 'Blue', 'Gold', 'White', 'Black', 'Orange', 'Mainhue', 'Circles',\\\n",
    "                                 'Crosses', 'Saltires', 'Quarters', 'Sunstars', 'Crescent', 'Triangle',\\\n",
    "                                 'Icon', 'Animate', 'Text', 'Topleft', 'Botright']]\n",
    "\n",
    "#Training on the Text feature\n",
    "y_train = flags_training[\"Red\"].tolist()\n",
    "\n",
    "#Creating and fitting the SVM model using the training x/y data\n",
    "SVMModel = svm.SVC(kernel=\"linear\") \n",
    "SVMModel.fit(features_train, y_train)\n",
    "\n",
    "#Predicting how well we did on the test data\n",
    "features_test = flags_training[['NameOfCountry', 'Landmass', 'Zone', 'Area', 'Population', \\\n",
    "                                 'Language', 'Religion', 'Bars', 'Stripes', 'Colours', 'Green',\\\n",
    "                                 'Blue', 'Gold', 'White', 'Black', 'Orange', 'Mainhue', 'Circles',\\\n",
    "                                 'Crosses', 'Saltires', 'Quarters', 'Sunstars', 'Crescent', 'Triangle',\\\n",
    "                                 'Icon', 'Animate', 'Text', 'Topleft', 'Botright']]\n",
    "y_true = flags_test[\"Red\"].tolist()\n",
    "\n",
    "y_predict = SVMModel.predict(features_test)\n",
    "print(y_predict)\n",
    "print(y_true)\n",
    "print(\"Accuracy: \", 100*sum(y_true == y_predict)/len(y_predict), \"%\")\n"
   ]
  },
  {
   "cell_type": "markdown",
   "metadata": {},
   "source": [
    "## Multi-Class Classification Using SVM"
   ]
  },
  {
   "cell_type": "code",
   "execution_count": null,
   "metadata": {
    "collapsed": false
   },
   "outputs": [],
   "source": [
    "#Predicting which landmass the flag is contained in (i.e. 1=N.America, 2=S.America, 3=Europe, 4=Africa, 4=Asia, 6=Oceania)\n",
    "\n",
    "#The training features are all the features except the Landmass feature (that's the one we want to predict)\n",
    "features_train = flags_training[['NameOfCountry', 'Zone', 'Area', 'Population', \\\n",
    "                                 'Language', 'Religion', 'Bars', 'Stripes', 'Colours', 'Red', 'Green',\\\n",
    "                                 'Blue', 'Gold', 'White', 'Black', 'Orange', 'Mainhue', 'Circles',\\\n",
    "                                 'Crosses', 'Saltires', 'Quarters', 'Sunstars', 'Crescent', 'Triangle',\\\n",
    "                                 'Icon', 'Animate', 'Text', 'Topleft', 'Botright']]\n",
    "\n",
    "#Training on the Landmass feature\n",
    "y_train = flags_training[\"Landmass\"].tolist()\n",
    "\n",
    "#Creating and fitting the SVM model using the training x/y data\n",
    "#SVMModel = svm.SVC() #default rbf - Radial Basis Function Kernel, but we can change to linear, polynomial hyperplane, and more\n",
    "SVMModel = svm.SVC(C=1)\n",
    "SVMModel.fit(features_train, y_train)\n",
    "\n",
    "#Predicting how well we did on the test data\n",
    "features_test = flags_training[['NameOfCountry', 'Zone', 'Area', 'Population', \\\n",
    "                                 'Language', 'Religion', 'Bars', 'Stripes', 'Colours', 'Red', 'Green',\\\n",
    "                                 'Blue', 'Gold', 'White', 'Black', 'Orange', 'Mainhue', 'Circles',\\\n",
    "                                 'Crosses', 'Saltires', 'Quarters', 'Sunstars', 'Crescent', 'Triangle',\\\n",
    "                                 'Icon', 'Animate', 'Text', 'Topleft', 'Botright']]\n",
    "\n",
    "y_true_test = flags_test[\"Landmass\"].tolist()\n",
    "y_predict_test = SVMModel.predict(features_test)\n",
    "\n",
    "y_true_training = y_train\n",
    "y_predict_training = SVMModel.predict(features_test)\n",
    "\n",
    "print(\"Training Accuracy: \", 100*sum(y_true_training == y_predict_training)/len(y_predict_training), \"%\")\n",
    "print(\"Test Accuracy: \", 100*sum(y_true_test == y_predict_test)/len(y_predict_test), \"%\")"
   ]
  },
  {
   "cell_type": "markdown",
   "metadata": {},
   "source": [
    "## Intuitive SVM Visualization on the Iris Dataset"
   ]
  },
  {
   "cell_type": "code",
   "execution_count": null,
   "metadata": {
    "collapsed": false
   },
   "outputs": [],
   "source": [
    "#Showcasing different SVM kernels and regularizers\n",
    "import numpy as np\n",
    "import matplotlib.pyplot as plt\n",
    "from sklearn import svm, datasets\n",
    "\n",
    "# import some data to play with\n",
    "iris = datasets.load_iris()\n",
    "iris_visualize = pd.DataFrame(iris.data, columns=iris.feature_names)\n",
    "print(iris_visualize.head())\n",
    "\n",
    "X = iris.data[:, :2]  # we only take the first two features. We could\n",
    "                      # avoid this ugly slicing by using a two-dim dataset\n",
    "y = iris.target\n",
    "\n",
    "h = .02  # step size in the mesh\n",
    "\n",
    "# we create an instance of SVM and fit out data. We do not scale our\n",
    "# data since we want to plot the support vectors\n",
    "C = 0.1  # SVM regularization parameter\n",
    "svc = svm.SVC(kernel='linear', C=C).fit(X, y)\n",
    "rbf_svc = svm.SVC(kernel='rbf', gamma=20, C=C).fit(X, y)\n",
    "poly_svc = svm.SVC(kernel='poly', degree=5, C=C).fit(X, y)\n",
    "lin_svc = svm.LinearSVC(C=C).fit(X, y)\n",
    "\n",
    "# create a mesh to plot in\n",
    "x_min, x_max = X[:, 0].min() - 1, X[:, 0].max() + 1\n",
    "y_min, y_max = X[:, 1].min() - 1, X[:, 1].max() + 1\n",
    "xx, yy = np.meshgrid(np.arange(x_min, x_max, h),\n",
    "                     np.arange(y_min, y_max, h))\n",
    "\n",
    "# title for the plots\n",
    "titles = ['SVC with linear kernel',\n",
    "          'LinearSVC (linear kernel)',\n",
    "          'SVC with RBF kernel',\n",
    "          'SVC with polynomial (degree 3) kernel']\n",
    "\n",
    "\n",
    "for i, clf in enumerate((svc, lin_svc, rbf_svc, poly_svc)):\n",
    "    # Plot the decision boundary. For that, we will assign a color to each\n",
    "    # point in the mesh [x_min, x_max]x[y_min, y_max].\n",
    "    plt.subplot(2, 2, i + 1)\n",
    "    plt.subplots_adjust(wspace=0.4, hspace=0.4)\n",
    "\n",
    "    Z = clf.predict(np.c_[xx.ravel(), yy.ravel()])\n",
    "\n",
    "    # Put the result into a color plot\n",
    "    Z = Z.reshape(xx.shape)\n",
    "    plt.contourf(xx, yy, Z, cmap=plt.cm.coolwarm, alpha=0.8)\n",
    "\n",
    "    # Plot also the training points\n",
    "    plt.scatter(X[:, 0], X[:, 1], c=y, cmap=plt.cm.coolwarm)\n",
    "    plt.xlabel('Sepal length')\n",
    "    plt.ylabel('Sepal width')\n",
    "    plt.xlim(xx.min(), xx.max())\n",
    "    plt.ylim(yy.min(), yy.max())\n",
    "    plt.xticks(())\n",
    "    plt.yticks(())\n",
    "    plt.title(titles[i])\n",
    "\n",
    "plt.show()\n",
    "\n",
    "#Reference, this slab of code obtained from: http://scikit-learn.org/stable/auto_examples/svm/plot_iris.html#sphx-glr-auto-examples-svm-plot-iris-py"
   ]
  }
 ],
 "metadata": {
  "kernelspec": {
   "display_name": "Python 3",
   "language": "python",
   "name": "python3"
  },
  "language_info": {
   "codemirror_mode": {
    "name": "ipython",
    "version": 3
   },
   "file_extension": ".py",
   "mimetype": "text/x-python",
   "name": "python",
   "nbconvert_exporter": "python",
   "pygments_lexer": "ipython3",
   "version": "3.5.1"
  }
 },
 "nbformat": 4,
 "nbformat_minor": 0
}
