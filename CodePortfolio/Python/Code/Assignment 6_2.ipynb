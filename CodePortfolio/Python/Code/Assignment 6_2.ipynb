{
 "cells": [
  {
   "cell_type": "code",
   "execution_count": null,
   "metadata": {},
   "outputs": [],
   "source": [
    "import pandas as pd\n",
    "import numpy as np\n",
    "from sklearn import tree\n",
    "from sklearn.metrics import accuracy_score\n",
    "\n",
    "data = pd.read_csv(\"tae.data\")\n",
    "data = data.sample(frac=1)\n",
    "k=5 # for k-fold cross validation\n",
    "i=k+1\n",
    "accuracy = []\n",
    "dataSplit = np.array_split(data,k)\n",
    "decTree = tree.DecisionTreeClassifier(min_samples_leaf=5, max_depth=9)\n",
    "while i != 0:\n",
    "    for splits in range(0,k):\n",
    "        testDataFeature = []\n",
    "        testDataClassPred = []\n",
    "        #print(splits,i)\n",
    "        if (splits != i-1):\n",
    "        #print(\"Training Split : \",splits)\n",
    "            dataFeature = dataSplit[splits].iloc[:, :5] \n",
    "            dataClass = dataSplit[splits].iloc[:, 5:6]\n",
    "            decTree = decTree.fit(dataFeature, dataClass)\n",
    "        else:\n",
    "        #print(\"Testing Split: \",splits)\n",
    "            testDataFeature = dataSplit[i-1].iloc[:, :5]\n",
    "            testDataClassOrig = dataSplit[i-1].iloc[:, 5:6] \n",
    "            testDataClassPred = decTree.predict(testDataFeature)\n",
    "            accuracy.append(accuracy_score(testDataClassOrig,testDataClassPred))\n",
    "    i = i -1\n",
    "print(\"Accuracy for individual loops: \",accuracy)\n",
    "pred = 0\n",
    "for occur in accuracy:\n",
    "    pred = pred + occur\n",
    "print(\"Average Accuracy:\", pred/k)"
   ]
  }
 ],
 "metadata": {
  "kernelspec": {
   "display_name": "Python 3",
   "language": "python",
   "name": "python3"
  },
  "language_info": {
   "codemirror_mode": {
    "name": "ipython",
    "version": 3
   },
   "file_extension": ".py",
   "mimetype": "text/x-python",
   "name": "python",
   "nbconvert_exporter": "python",
   "pygments_lexer": "ipython3",
   "version": "3.6.5"
  }
 },
 "nbformat": 4,
 "nbformat_minor": 2
}
