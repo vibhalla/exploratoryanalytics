{
 "cells": [
  {
   "cell_type": "code",
   "execution_count": 61,
   "metadata": {},
   "outputs": [
    {
     "name": "stdout",
     "output_type": "stream",
     "text": [
      "Training Accuracy Linear:  57.94392523364486 %\n",
      "Testing Accuracy Linear:  57.94392523364486 %\n",
      "Training Accuracy RBF:  35.51401869158879 %\n",
      "Testing Accuracy RBF:  35.51401869158879 %\n",
      "Training Accuracy Poly:  72.89719626168224 %\n",
      "Testing Accuracy Poly:  72.89719626168224 %\n"
     ]
    }
   ],
   "source": [
    "import pandas as pd\n",
    "from sklearn import svm\n",
    "import matplotlib.pyplot as plt\n",
    "\n",
    "#Dataset used: https://archive.ics.uci.edu/ml/datasets/Glass+Identification\n",
    "glassData = pd.read_csv(\"glass_data.csv\")\n",
    "#print(glassData.columns)\n",
    "#print(glassData)\n",
    "glassData = glassData.sample(frac=1)\n",
    "glassTrain = glassData.iloc[0:int(glassData.shape[0]/2),]\n",
    "glassTest = glassData.iloc[int(glassData.shape[0]/2):,]\n",
    "glassTrainFeat = glassTrain[['RI', 'Na', 'Mg', 'Al', 'Si', 'K', 'Ca', 'Ba', 'Fe']]\n",
    "glassTrainAct = glassTrain[\"Type_Of_Glass\"].tolist()\n",
    "glassTestFeat = glassTrain[['RI', 'Na', 'Mg', 'Al', 'Si', 'K', 'Ca', 'Ba', 'Fe']]\n",
    "glassTestAct = glassTrain[\"Type_Of_Glass\"].tolist()\n",
    "#print(glassTrainFeat.head())\n",
    "#print(glassTrainPred)\n",
    "\n",
    "regPar = .1\n",
    "svcLnr = svm.SVC(kernel='linear', C=regPar)\n",
    "svcLnr.fit(glassTrainFeat,glassTrainAct)\n",
    "glassTrainPred = svcLnr.predict(glassTrainFeat)\n",
    "print(\"Training Accuracy Linear: \", 100*sum(glassTrainAct == glassTrainPred)/len(glassTrainPred), \"%\")\n",
    "glassTestPred = svcLnr.predict(glassTestFeat)\n",
    "print(\"Testing Accuracy Linear: \", 100*sum(glassTestAct == glassTestPred)/len(glassTestPred), \"%\")\n",
    "\n",
    "svcRBF = svm.SVC(kernel='rbf',gamma=10, C=regPar)\n",
    "svcRBF.fit(glassTrainFeat,glassTrainAct)\n",
    "glassTrainPred = svcRBF.predict(glassTrainFeat)\n",
    "print(\"Training Accuracy RBF: \", 100*sum(glassTrainAct == glassTrainPred)/len(glassTrainPred), \"%\")\n",
    "glassTestPred = svcRBF.predict(glassTestFeat)\n",
    "print(\"Testing Accuracy RBF: \", 100*sum(glassTestAct == glassTestPred)/len(glassTestPred), \"%\")\n",
    "\n",
    "svcPoly = svm.SVC(kernel='poly',degree=2, C=regPar)\n",
    "svcPoly.fit(glassTrainFeat,glassTrainAct)\n",
    "glassTrainPred = svcPoly.predict(glassTrainFeat)\n",
    "print(\"Training Accuracy Poly: \", 100*sum(glassTrainAct == glassTrainPred)/len(glassTrainPred), \"%\")\n",
    "glassTestPred = svcPoly.predict(glassTestFeat)\n",
    "print(\"Testing Accuracy Poly: \", 100*sum(glassTestAct == glassTestPred)/len(glassTestPred), \"%\")"
   ]
  },
  {
   "cell_type": "code",
   "execution_count": null,
   "metadata": {},
   "outputs": [],
   "source": []
  }
 ],
 "metadata": {
  "kernelspec": {
   "display_name": "Python 3",
   "language": "python",
   "name": "python3"
  },
  "language_info": {
   "codemirror_mode": {
    "name": "ipython",
    "version": 3
   },
   "file_extension": ".py",
   "mimetype": "text/x-python",
   "name": "python",
   "nbconvert_exporter": "python",
   "pygments_lexer": "ipython3",
   "version": "3.6.5"
  }
 },
 "nbformat": 4,
 "nbformat_minor": 2
}
