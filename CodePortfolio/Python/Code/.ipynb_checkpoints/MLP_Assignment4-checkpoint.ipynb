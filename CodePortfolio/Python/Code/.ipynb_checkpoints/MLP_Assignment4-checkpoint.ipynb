{
 "cells": [
  {
   "cell_type": "markdown",
   "metadata": {},
   "source": [
    "## Logistic Regression\n",
    "\n",
    "#### This experiment is performed using the Iris dataset which is publicly available"
   ]
  },
  {
   "cell_type": "code",
   "execution_count": 1,
   "metadata": {},
   "outputs": [
    {
     "name": "stdout",
     "output_type": "stream",
     "text": [
      "Trained weights:  [ 27058.66127209 -17972.0561617   48343.08506829  25657.22267306]\n"
     ]
    },
    {
     "data": {
      "text/plain": [
       "<Figure size 640x480 with 1 Axes>"
      ]
     },
     "metadata": {},
     "output_type": "display_data"
    },
    {
     "data": {
      "text/plain": [
       "<Figure size 640x480 with 1 Axes>"
      ]
     },
     "metadata": {},
     "output_type": "display_data"
    },
    {
     "name": "stdout",
     "output_type": "stream",
     "text": [
      "Accuracy using sklearn:  96.0 %\n"
     ]
    },
    {
     "name": "stderr",
     "output_type": "stream",
     "text": [
      "C:\\ProgramData\\Anaconda3\\lib\\site-packages\\sklearn\\utils\\validation.py:578: DataConversionWarning: A column-vector y was passed when a 1d array was expected. Please change the shape of y to (n_samples, ), for example using ravel().\n",
      "  y = column_or_1d(y, warn=True)\n"
     ]
    }
   ],
   "source": [
    "import pandas as pd\n",
    "import numpy as np\n",
    "import random\n",
    "import matplotlib.pyplot as plt\n",
    "from sklearn.linear_model import LogisticRegression\n",
    "\n",
    "iris_raw = pd.read_csv(\"../Data/Iris.csv\")\n",
    "\n",
    "for column in iris_raw:\n",
    "    iris_raw[column] = iris_raw[column].astype('category')\n",
    "    iris_raw[column] = iris_raw[column].cat.codes\n",
    "    \n",
    "p = .1 #Training Rate\n",
    "predX = []\n",
    "trng_data = iris_raw.sample(frac=0.5, replace=True)\n",
    "test_data = iris_raw.sample(frac=0.5, replace=True)\n",
    "\n",
    "Y_train = trng_data[['Class']].values\n",
    "X_train = trng_data[['SepalLn', 'SepalWd','PetalLn', 'PetalWd']].values\n",
    "\n",
    "Y_test = test_data[['Class']].values\n",
    "X_test = test_data[['SepalLn', 'SepalWd','PetalLn', 'PetalWd']].values\n",
    "\n",
    "def chkWeights(x_i, y_i, w):\n",
    "   ypred = predict(x_i, w)   # The predicted target\n",
    "   error = y_i - ypred       \n",
    "   return w + p * (y_i - ypred) * x_i  # Update the weights\n",
    "\n",
    "def predict(x_i, w):\n",
    "   return 1/(1+np.exp(-1 * np.dot(w.T, x_i)))\n",
    "\n",
    "def SGD(X,y):\n",
    "    w = np.array([random.random() for x in range(X.shape[1])])\n",
    "    w_temp = w\n",
    "    epoch = 0\n",
    "    while epoch <= 1000:\n",
    "        for i, x_i in enumerate(X):\n",
    "            w = chkWeights(x_i, y[i], w)\n",
    "        pred = 1/(1+np.exp(-1 * np.dot(X, w)))\n",
    "        error = np.sum(pred - y[i])\n",
    "        #print(error)\n",
    "        epoch += 1\n",
    "        if np.sum(np.abs(w_temp - w)) < 0.01:\n",
    "            print('Epoch : ', epoch)\n",
    "            print('Error : ', error)\n",
    "            return w\n",
    "        else: \n",
    "            w_temp = w\n",
    "    return w\n",
    "\n",
    "w = SGD(X_train,Y_train)\n",
    "print('Trained weights: ', w)\n",
    "predT = []\n",
    "for i, x in enumerate(X_test):\n",
    "    predT.append(1/(1+np.exp(-1 * np.dot(x, w))))\n",
    "    error = np.sum(predT - Y_test[i])\n",
    "    #print(x, predT)\n",
    "train_pred = []\n",
    "for x in X_train:\n",
    "    train_pred.append(1/(1+np.exp(-1 * np.dot(x, w))))\n",
    "    \n",
    "plt.plot(trng_data['SepalLn'], Y_train, 'bo')\n",
    "plt.plot(trng_data['SepalWd'], Y_train, 'ro')\n",
    "plt.plot(trng_data['PetalLn'], Y_train, 'go')\n",
    "plt.plot(trng_data['PetalWd'], Y_train, 'ko')\n",
    "plt.plot(trng_data['SepalLn'], train_pred, linewidth=2, color='blue')\n",
    "plt.title(\"Sepal Length, Class in Training\")\n",
    "plt.xlabel(\"Sepal Length\")\n",
    "plt.ylabel(\"Class\")\n",
    "plt.show() \n",
    "\n",
    "plt.plot(test_data['SepalLn'], Y_test, 'bo')\n",
    "plt.plot(test_data['SepalWd'], Y_test, 'ro')\n",
    "plt.plot(test_data['PetalLn'], Y_test, 'go')\n",
    "plt.plot(test_data['PetalWd'], Y_test, 'ko')\n",
    "plt.plot(test_data['SepalLn'], predT, linewidth=2, color='red')\n",
    "plt.title(\"Sepal Length, Class in Test\")\n",
    "plt.xlabel(\"Sepal Length\")\n",
    "plt.ylabel(\"Class\")\n",
    "plt.show() \n",
    "\n",
    "\n",
    "#Using sklearn\n",
    "logRegr = LogisticRegression()\n",
    "logRegr.fit(X_train, Y_train)\n",
    "predictions = logRegr.predict(X_test)\n",
    "score = logRegr.score(X_test, Y_test)\n",
    "print(\"Accuracy using sklearn: \", score*100,\"%\")"
   ]
  },
  {
   "cell_type": "code",
   "execution_count": null,
   "metadata": {},
   "outputs": [],
   "source": []
  }
 ],
 "metadata": {
  "kernelspec": {
   "display_name": "Python 3",
   "language": "python",
   "name": "python3"
  },
  "language_info": {
   "codemirror_mode": {
    "name": "ipython",
    "version": 3
   },
   "file_extension": ".py",
   "mimetype": "text/x-python",
   "name": "python",
   "nbconvert_exporter": "python",
   "pygments_lexer": "ipython3",
   "version": "3.6.5"
  }
 },
 "nbformat": 4,
 "nbformat_minor": 2
}
