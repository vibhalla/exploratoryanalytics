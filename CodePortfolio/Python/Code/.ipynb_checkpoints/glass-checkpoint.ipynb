{
 "cells": [
  {
   "cell_type": "markdown",
   "metadata": {},
   "source": [
    "### A sample program to test SVM - Support Vector Machines\n",
    "#### Dataset used: https://archive.ics.uci.edu/ml/datasets/Glass+Identification"
   ]
  },
  {
   "cell_type": "code",
   "execution_count": 4,
   "metadata": {},
   "outputs": [
    {
     "name": "stdout",
     "output_type": "stream",
     "text": [
      "Index(['ID', 'RI', 'Na', 'Mg', 'Al', 'Si', 'K', 'Ca', 'Ba', 'Fe',\n",
      "       'Type_Of_Glass'],\n",
      "      dtype='object')\n",
      "Training Accuracy:  65.42056074766356 %\n",
      "Testing Accuracy:  65.42056074766356 %\n"
     ]
    }
   ],
   "source": [
    "import pandas as pd\n",
    "from sklearn import svm\n",
    "import matplotlib.pyplot as plt\n",
    "\n",
    "# Read the data\n",
    "glassData = pd.read_csv(\"../Data/glass_data.csv\")\n",
    "print(glassData.columns)\n",
    "glassData = glassData.sample(frac=1)\n",
    "glassTrain = glassData.iloc[0:int(glassData.shape[0]/2),]\n",
    "glassTest = glassData.iloc[int(glassData.shape[0]/2):,]\n",
    "\n",
    "# Separate the Type_of_Glass which will be our predicted variable\n",
    "glassTrainFeat = glassTrain[['RI', 'Na', 'Mg', 'Al', 'Si', 'K', 'Ca', 'Ba', 'Fe']]\n",
    "glassTrainAct = glassTrain[\"Type_Of_Glass\"].tolist()\n",
    "glassTestFeat = glassTrain[['RI', 'Na', 'Mg', 'Al', 'Si', 'K', 'Ca', 'Ba', 'Fe']]\n",
    "glassTestAct = glassTrain[\"Type_Of_Glass\"].tolist()\n",
    "\n",
    "#  Run svm regression algorithm and fit the data\n",
    "regPar = .4\n",
    "svcLnr = svm.SVC(kernel='linear', C=regPar)\n",
    "svcLnr.fit(glassTrainFeat,glassTrainAct)\n",
    "\n",
    "glassTrainPred = svcLnr.predict(glassTrainFeat)\n",
    "glassTestPred = svcLnr.predict(glassTestFeat)\n",
    "# print Training and Testing Accuracy\n",
    "print(\"Training Accuracy: \", 100*sum(glassTrainAct == glassTrainPred)/len(glassTrainPred), \"%\")\n",
    "print(\"Testing Accuracy: \", 100*sum(glassTestAct == glassTestPred)/len(glassTestPred), \"%\")\n",
    "\n",
    "#rbf_svc = svm.SVC(kernel='rbf', gamma=20, C=C).fit(X, y)\n",
    "#poly_svc = svm.SVC(kernel='poly', degree=5, C=C).fit(X, y)\n",
    "#lin_svc = svm.LinearSVC(C=C).fit(X, y)"
   ]
  }
 ],
 "metadata": {
  "kernelspec": {
   "display_name": "Python 3",
   "language": "python",
   "name": "python3"
  },
  "language_info": {
   "codemirror_mode": {
    "name": "ipython",
    "version": 3
   },
   "file_extension": ".py",
   "mimetype": "text/x-python",
   "name": "python",
   "nbconvert_exporter": "python",
   "pygments_lexer": "ipython3",
   "version": "3.6.5"
  }
 },
 "nbformat": 4,
 "nbformat_minor": 2
}
