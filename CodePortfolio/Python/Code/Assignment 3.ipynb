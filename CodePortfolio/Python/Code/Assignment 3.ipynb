{
 "cells": [
  {
   "cell_type": "code",
   "execution_count": 1,
   "metadata": {},
   "outputs": [
    {
     "name": "stdout",
     "output_type": "stream",
     "text": [
      "Select Rating as independent variable and reviews as dependent variable\n",
      "Intercept:  184879.60885236168 \n",
      "Coefficient:  [231379.96700285]\n"
     ]
    },
    {
     "data": {
      "image/png": "[encoded data removed]",
      "text/plain": [
       "<Figure size 432x288 with 1 Axes>"
      ]
     },
     "metadata": {},
     "output_type": "display_data"
    }
   ],
   "source": [
    "%matplotlib inline\n",
    "import pandas as pd\n",
    "import matplotlib.pyplot as plt\n",
    "from sklearn import linear_model as ln\n",
    "import os\n",
    "\n",
    "relativePath=os.getcwd()\n",
    "dataFilePath=relativePath+\"/googleplaystore.csv\"\n",
    "data = pd.read_csv(dataFilePath)\n",
    "lnrm = ln.LinearRegression()\n",
    "data.fillna(0, inplace = True)\n",
    "print(\"Select Rating as independent variable and reviews as dependent variable\")\n",
    "rating = data['Rating'].values.reshape(-1,1)\n",
    "review = data['Reviews']\n",
    "#print(rating,review)\n",
    "lnrm.fit(rating, review)\n",
    "print(\"Intercept: \",lnrm.intercept_, \"\\nCoefficient: \",lnrm.coef_)\n",
    "plt.plot(rating, review, 'ro')\n",
    "plt.plot(rating, lnrm.predict(rating), color='green', linewidth=2)\n",
    "plt.title(\"Review vs Rating and Prediction Line\")\n",
    "plt.xlabel(\"Rating\")\n",
    "plt.ylabel(\"Review\")\n",
    "plt.show()"
   ]
  },
  {
   "cell_type": "code",
   "execution_count": null,
   "metadata": {},
   "outputs": [],
   "source": []
  }
 ],
 "metadata": {
  "kernelspec": {
   "display_name": "Python 3",
   "language": "python",
   "name": "python3"
  },
  "language_info": {
   "codemirror_mode": {
    "name": "ipython",
    "version": 3
   },
   "file_extension": ".py",
   "mimetype": "text/x-python",
   "name": "python",
   "nbconvert_exporter": "python",
   "pygments_lexer": "ipython3",
   "version": "3.6.5"
  }
 },
 "nbformat": 4,
 "nbformat_minor": 2
}
