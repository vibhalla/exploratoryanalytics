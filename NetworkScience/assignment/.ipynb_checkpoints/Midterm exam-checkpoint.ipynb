{
 "cells": [
  {
   "cell_type": "markdown",
   "metadata": {},
   "source": [
    "# Midterm "
   ]
  },
  {
   "cell_type": "markdown",
   "metadata": {},
   "source": [
    "## Section 1"
   ]
  },
  {
   "cell_type": "markdown",
   "metadata": {},
   "source": [
    "In this section, we will use `openflights_usa.edges`. It is a network of air transportation in the US. You could find it in **Canvas** `Files/Datasets/folder`. \n",
    "\n"
   ]
  },
  {
   "cell_type": "code",
   "execution_count": 1,
   "metadata": {},
   "outputs": [],
   "source": [
    "import networkx as nx\n",
    "import statistics as stats\n",
    "import matplotlib.pyplot as plt\n",
    "import numpy as np\n",
    "from collections import Counter\n",
    "import scipy.stats"
   ]
  },
  {
   "cell_type": "code",
   "execution_count": 2,
   "metadata": {},
   "outputs": [],
   "source": [
    "UG = nx.read_edgelist('Data/openflights_usa.edges', create_using = nx.Graph())"
   ]
  },
  {
   "cell_type": "markdown",
   "metadata": {},
   "source": [
    "### Q1. Is the network a tree? Please respond by using exclusively the number of nodes and links. "
   ]
  },
  {
   "cell_type": "code",
   "execution_count": 3,
   "metadata": {},
   "outputs": [
    {
     "name": "stdout",
     "output_type": "stream",
     "text": [
      "Tree should have N-1 edges, which does not hold True as this network has 546 nodes and 2781 edges. Hence not a Tree\n"
     ]
    }
   ],
   "source": [
    "E = UG.number_of_edges()\n",
    "N = UG.number_of_nodes()\n",
    "\n",
    "print(f'Tree should have N-1 edges, which does not hold True as this network has {N} nodes and {E} edges. Hence not a Tree')"
   ]
  },
  {
   "cell_type": "markdown",
   "metadata": {},
   "source": [
    "### Q2.  Which airports have the largest degree, betweenness and clustering coefficient respectively?\n",
    "\n"
   ]
  },
  {
   "cell_type": "code",
   "execution_count": 4,
   "metadata": {},
   "outputs": [
    {
     "name": "stdout",
     "output_type": "stream",
     "text": [
      "Airport with highest Degree is ['ATL'] of 153\n"
     ]
    }
   ],
   "source": [
    "deg = dict(UG.degree())\n",
    "deg_max = [key for key in deg.keys() if deg[key] == max(deg.values())]\n",
    "print(f'Airport with highest Degree is {deg_max} of {max(deg.values())}')"
   ]
  },
  {
   "cell_type": "code",
   "execution_count": 5,
   "metadata": {},
   "outputs": [
    {
     "name": "stdout",
     "output_type": "stream",
     "text": [
      "Node/s ['MFR', 'RDM', 'MYU', 'NME', 'ABL', 'OBU', 'SHG', 'BKC', 'DRG', 'ITO', 'ORV', 'IAN', 'TLA', 'MGM', 'SKK', 'TNC', 'FCA', 'MBS', 'BGM', 'EEK', 'SCM', 'VAK', 'HPB', 'KKH', 'AIN', 'ATK', 'WNA', 'PKA', 'IRC', 'CEM', 'JST', 'AOO', 'WMO', 'SHH', 'HHH', 'GRK', 'SGY', 'HNS', 'MLL', 'EWB', 'ERI', 'MGW', 'CYF', 'GCC', 'RKS', 'SVA', 'GAM', 'SCE', 'LBL', 'DDC', 'COD', 'LRD', 'ORH', 'CEC', 'OAJ', 'SIT', 'AKP', 'CIK', 'SNP', 'STG', 'FSM', 'KVL', 'WTK', 'GEG', 'HOT', 'LNY', 'MKK', 'HRO', 'DLG', 'DRO', 'FAT', 'YUM', 'SBA', 'MRY', 'SBP', 'GJT', 'BFL', 'LMT', 'OTH', 'SAF', 'SMX', 'ASE', 'STS', 'FKL', 'JHW', 'BFD', 'DUJ', 'AIA', 'CDR', 'HNH', 'GST', 'LFT', 'ITH', 'HLN', 'LCH', 'JHM', 'ILM', 'VPS', 'AGS', 'INL', 'BRD', 'CPR', 'SGU', 'JAC', 'LNK', 'BTR', 'TYR', 'AEX', 'SHV', 'CLL', 'MLU', 'BRO', 'GPT', 'MFE', 'MOB', 'ECP', 'NUI', 'PUW', 'MQT', 'BKW', 'SHD', 'BRL', 'SBY', 'GRB', 'APN', 'EVV', 'TVC', 'AZO', 'CWA', 'ISN', 'COU', 'CMI', 'MHK', 'MLB', 'DEC', 'LWB', 'DAB', 'EWN', 'MCN', 'CHO', 'ALS', 'DIK', 'ART', 'IMT', 'RHI', 'EGX', 'WSN', 'LSE', 'ESD', 'FRD'] have the cluster co-efficient of 1.0\n"
     ]
    }
   ],
   "source": [
    "cluster = nx.clustering(UG)\n",
    "max_clust_node = [k for k,v in cluster.items() if v == max(cluster.values())]\n",
    "print(f'Node/s {max_clust_node} have the cluster co-efficient of {max(cluster.values())}')"
   ]
  },
  {
   "cell_type": "code",
   "execution_count": 6,
   "metadata": {},
   "outputs": [
    {
     "name": "stdout",
     "output_type": "stream",
     "text": [
      " The node with highest betweeness is ['ANC'] with a betweeness value of 0.3189906081983969. \n"
     ]
    }
   ],
   "source": [
    "betweenness = nx.centrality.betweenness_centrality(UG)\n",
    "highest_betweenness_node = [k for k,v in betweenness.items() if v == max(betweenness.values())]\n",
    "print(f' The node with highest betweeness is {highest_betweenness_node} with a betweeness value of {max(betweenness.values())}. ')"
   ]
  },
  {
   "cell_type": "markdown",
   "metadata": {},
   "source": [
    "### Q3. Which link has the largest neighborhood overlap? Please use the measure introduced when we discussed Granovetter's principle.\n",
    "\n"
   ]
  },
  {
   "cell_type": "code",
   "execution_count": 7,
   "metadata": {
    "scrolled": true
   },
   "outputs": [
    {
     "name": "stdout",
     "output_type": "stream",
     "text": [
      "The links with largest overlap are [('ABL', 'OBU'), ('ABL', 'SHG'), ('OBU', 'SHG'), ('BKC', 'DRG'), ('ORV', 'IAN'), ('SCM', 'VAK'), ('SCM', 'HPB'), ('VAK', 'HPB'), ('AIN', 'ATK'), ('WNA', 'PKA'), ('IRC', 'CEM'), ('JST', 'AOO'), ('SGY', 'HNS'), ('GCC', 'RKS'), ('SVA', 'GAM'), ('LBL', 'DDC'), ('SNP', 'STG'), ('KVL', 'WTK'), ('LNY', 'MKK'), ('FKL', 'DUJ'), ('JHW', 'BFD'), ('AIA', 'CDR'), ('HNH', 'GST'), ('INL', 'BRD'), ('BKW', 'SHD'), ('IMT', 'RHI'), ('EGX', 'WSN'), ('ESD', 'FRD')] with a neighborhood overlap of 1.0\n"
     ]
    }
   ],
   "source": [
    "EG = UG.edges()\n",
    "\n",
    "def calculate_overlap(G,E):\n",
    "    lista = list(UG.neighbors(E[0]))\n",
    "    listb = list(UG.neighbors(E[1]))\n",
    "    common = len(list(set(lista).intersection(set(listb))))\n",
    "    atleastone = (len(set(lista+listb).difference(E)))\n",
    "    overlap = 0 if (common == 0 or atleastone == 0) else (common/atleastone)\n",
    "    return overlap\n",
    "    \n",
    "edges = []    \n",
    "overlap = 0\n",
    "for edge in EG:\n",
    "    tmp = 0\n",
    "    tmp = calculate_overlap(UG,edge)\n",
    "    if tmp > overlap:\n",
    "        edges.clear()\n",
    "        edges.append(edge)\n",
    "        overlap = tmp\n",
    "    elif tmp == overlap:\n",
    "        edges.append(edge)\n",
    "            \n",
    "print(f'The links with largest overlap are {edges} with a neighborhood overlap of {overlap}')"
   ]
  },
  {
   "cell_type": "markdown",
   "metadata": {},
   "source": [
    "### Q4. Verify the friendship paradox holds for this network\n",
    "\n"
   ]
  },
  {
   "cell_type": "code",
   "execution_count": 8,
   "metadata": {},
   "outputs": [
    {
     "name": "stdout",
     "output_type": "stream",
     "text": [
      "For network avg degree is 10.186813186813186  and neighbors avg deg is 64.04614431282478\n"
     ]
    }
   ],
   "source": [
    "avg_neigh_deg = 0\n",
    "node_deg = 0\n",
    "for node in UG.nodes():\n",
    "    node_deg += UG.degree(node)\n",
    "    neigh_deg = 0\n",
    "    for neigh in UG.neighbors(node):\n",
    "        neigh_deg += (UG.degree(neigh))\n",
    "    avg_neigh_deg += (neigh_deg/len(list(UG.neighbors(node))))\n",
    "avg_neigh_deg = avg_neigh_deg/N\n",
    "mean_deg = node_deg/N\n",
    "print(f'For network avg degree is {mean_deg}  and neighbors avg deg is {avg_neigh_deg}')"
   ]
  },
  {
   "cell_type": "markdown",
   "metadata": {},
   "source": [
    "**As we can see that the Average degree for neighbors is higher than the average degree of the nodes, it shows that the Friendship paradox holds good for this given network.**"
   ]
  },
  {
   "cell_type": "markdown",
   "metadata": {},
   "source": [
    "### Q5. Compute the robustness plots for this network for the cases of attacks based on degree, clustering coefficient and betweenness. Which of the three strategies is the most effective to disrupt the network?\n",
    "hint:\n",
    "1. you will need to show one plot including three curves corresponding to attacks based on degree, clustering coefficient and betweenness. \n",
    "2. compare the three and select the most effective strategy. \n",
    "\n",
    "\n"
   ]
  },
  {
   "cell_type": "code",
   "execution_count": 9,
   "metadata": {},
   "outputs": [],
   "source": [
    "cluster = nx.clustering(UG)\n",
    "#nodes_by_clstr = sorted(UG.nodes, key=cluster.get)\n",
    "\n",
    "betweenness = nx.centrality.betweenness_centrality(UG)\n",
    "#nodes_by_bet = sorted(UG.nodes, key=betweenness.get)\n"
   ]
  },
  {
   "cell_type": "code",
   "execution_count": 10,
   "metadata": {},
   "outputs": [],
   "source": [
    "# Lets remove the nodes in 25 steps\n",
    "num_steps = 25\n",
    "M = N // num_steps\n",
    "num_removed = range(0, N, M)\n",
    "B = UG.copy()\n",
    "C = UG.copy()\n",
    "D = UG.copy()\n",
    "\n",
    "clstr_tgt_core_ratio = []\n",
    "bet_tgt_core_ratio = []\n",
    "deg_tgt_core_ratio = []\n",
    "\n",
    "for node_num in num_removed:\n",
    "    # Measure the relative size of the network core\n",
    "    Bcore = next(nx.connected_components(B))\n",
    "    Ccore = next(nx.connected_components(C))\n",
    "    Dcore = next(nx.connected_components(D))\n",
    "    #core_proportion = len(core) / N\n",
    "    #argeted_attack_core_proportions.append(core_proportion)\n",
    "    bet_tgt_core_ratio.append(len(Bcore)/N)\n",
    "    clstr_tgt_core_ratio.append(len(Ccore)/N)\n",
    "    deg_tgt_core_ratio.append(len(Dcore)/N)\n",
    "    # If there are more than M nodes, select top M nodes and remove them\n",
    "    if B.number_of_nodes() > M:\n",
    "        nodes_by_bet = sorted(B.nodes, key=betweenness.get, reverse=True)\n",
    "        B_node_remove = nodes_by_bet[:M]\n",
    "        C.remove_nodes_from(B_node_remove)\n",
    "    \n",
    "    if C.number_of_nodes() > M:\n",
    "        nodes_by_clstr = sorted(C.nodes, key=cluster.get, reverse=True)\n",
    "        C_node_remove = nodes_by_clstr[:M]\n",
    "        C.remove_nodes_from(C_node_remove)\n",
    "        \n",
    "    if D.number_of_nodes() > M:\n",
    "        nodes_by_deg = sorted(D.nodes, key=D.degree, reverse=True)\n",
    "        D_node_remove = nodes_by_deg[:M]\n",
    "        D.remove_nodes_from(D_node_remove)"
   ]
  },
  {
   "cell_type": "code",
   "execution_count": 11,
   "metadata": {},
   "outputs": [
    {
     "data": {
      "text/plain": [
       "<matplotlib.legend.Legend at 0x7f8b73d51090>"
      ]
     },
     "execution_count": 11,
     "metadata": {},
     "output_type": "execute_result"
    },
    {
     "data": {
      "image/png": "[encoded data removed]",
      "text/plain": [
       "<Figure size 432x288 with 1 Axes>"
      ]
     },
     "metadata": {
      "needs_background": "light"
     },
     "output_type": "display_data"
    }
   ],
   "source": [
    "plt.title('Compare attack effectiveness by Degree, Betweenness and Clustering Co-Efficient')\n",
    "plt.xlabel('Number of nodes removed')\n",
    "plt.ylabel('Proportion of nodes in core')\n",
    "plt.plot(num_removed, bet_tgt_core_ratio, marker='s', color='blue', label='Betweeness')\n",
    "plt.plot(num_removed, clstr_tgt_core_ratio, marker='o', color='green', label='Clustering')\n",
    "plt.plot(num_removed, deg_tgt_core_ratio, marker='D', color='red', label='Degrees')\n",
    "plt.legend()"
   ]
  },
  {
   "cell_type": "markdown",
   "metadata": {},
   "source": [
    "**As we can see from the plots above the most effective way to disrupt a network is by removing the nodes by their degrees. Removing the nodes by clustering is also affective however the disruption is more smoother and network stays robust for a time.**"
   ]
  },
  {
   "cell_type": "markdown",
   "metadata": {},
   "source": [
    "## Section 2"
   ]
  },
  {
   "cell_type": "markdown",
   "metadata": {},
   "source": [
    "In this section, please load `retweet-digraph.edges` from **Canvas** `Files/Datasets`. Please read it as a directed and weighted network.   \n",
    "\n"
   ]
  },
  {
   "cell_type": "code",
   "execution_count": 12,
   "metadata": {},
   "outputs": [],
   "source": [
    "DG = nx.read_weighted_edgelist('Data/retweet-digraph.edges', create_using = nx.DiGraph(weight='weight'))\n",
    "DN = DG.number_of_nodes()\n",
    "deg_seq = [DG.degree(n) for n in DG.nodes]\n",
    "in_degree_sequence = [DG.in_degree(n) for n in DG.nodes]\n",
    "out_degree_sequence = [DG.out_degree(n) for n in DG.nodes]"
   ]
  },
  {
   "cell_type": "markdown",
   "metadata": {},
   "source": [
    "### Q6. Plot the in-degree and the out-degree distributions"
   ]
  },
  {
   "cell_type": "code",
   "execution_count": 13,
   "metadata": {
    "scrolled": true
   },
   "outputs": [
    {
     "data": {
      "image/png": "[encoded data removed]",
      "text/plain": [
       "<Figure size 864x360 with 2 Axes>"
      ]
     },
     "metadata": {
      "needs_background": "light"
     },
     "output_type": "display_data"
    }
   ],
   "source": [
    "plt.rcParams['figure.figsize'] = [12,5]\n",
    "fig, (ax1,ax2) = plt.subplots(1,2,sharey=True)\n",
    "ax1.hist(in_degree_sequence, density = True, bins = 25, color='green', label = 'IN')\n",
    "ax2.hist(out_degree_sequence, density = True, bins = 25, color='blue', label = 'OUT')\n",
    "ax1.set_xscale('log')\n",
    "ax2.set_yscale('log')\n",
    "ax1.set_xscale('log')\n",
    "ax2.set_yscale('log')\n",
    "ax1.set_title('IN Degree')\n",
    "ax2.set_title('Out Degree')\n",
    "plt.show()"
   ]
  },
  {
   "cell_type": "markdown",
   "metadata": {},
   "source": [
    "### Q7.  What is the heterogeneity parameter for the in-degree and the out-degree distributions? Which distribution is more heterogeneous?\n",
    "\n"
   ]
  },
  {
   "cell_type": "code",
   "execution_count": 14,
   "metadata": {},
   "outputs": [
    {
     "name": "stdout",
     "output_type": "stream",
     "text": [
      "In Degree Heterogeneity Parameter:  8.295475204620505\n"
     ]
    }
   ],
   "source": [
    "avg_in_deg = round(np.sum(in_degree_sequence)/DN,3)\n",
    "avg_in_deg_sq = np.square(avg_in_deg)\n",
    "in_deg_sq = np.dot(in_degree_sequence,in_degree_sequence)\n",
    "in_deg_sq_avg = round(in_deg_sq/DN,3)\n",
    "in_deg_hetro_param = in_deg_sq_avg/avg_in_deg_sq\n",
    "print(\"In Degree Heterogeneity Parameter: \",in_deg_hetro_param)"
   ]
  },
  {
   "cell_type": "code",
   "execution_count": 15,
   "metadata": {},
   "outputs": [
    {
     "name": "stdout",
     "output_type": "stream",
     "text": [
      "Out Degree Heterogeneity Parameter:  31.01210191742109\n"
     ]
    }
   ],
   "source": [
    "avg_out_deg = round(np.sum(out_degree_sequence)/DN,3)\n",
    "avg_out_deg_sq = np.square(avg_out_deg)\n",
    "out_deg_sq = np.dot(out_degree_sequence,out_degree_sequence)\n",
    "out_deg_sq_avg = round(out_deg_sq/DN,3)\n",
    "out_deg_hetro_param = out_deg_sq_avg/avg_out_deg_sq\n",
    "print(\"Out Degree Heterogeneity Parameter: \",out_deg_hetro_param)"
   ]
  },
  {
   "cell_type": "markdown",
   "metadata": {},
   "source": [
    "**From the above calculations we can see that out degree heterogeneity parameter is larger than the in degree hetrogeneity parameter therefore signifying that the out degrees are more heterogenously distributed in the network**"
   ]
  },
  {
   "cell_type": "markdown",
   "metadata": {},
   "source": [
    "### Q8. Plot the in-strength and out-strength distributions"
   ]
  },
  {
   "cell_type": "code",
   "execution_count": 16,
   "metadata": {},
   "outputs": [],
   "source": [
    "in_strength = dict(DG.in_degree(weight='weight'))\n",
    "out_strength = dict(DG.out_degree(weight='weight'))"
   ]
  },
  {
   "cell_type": "code",
   "execution_count": 17,
   "metadata": {},
   "outputs": [
    {
     "data": {
      "image/png": "[encoded data removed]",
      "text/plain": [
       "<Figure size 864x360 with 2 Axes>"
      ]
     },
     "metadata": {
      "needs_background": "light"
     },
     "output_type": "display_data"
    }
   ],
   "source": [
    "fig, (ax1,ax2) = plt.subplots(1,2,sharey=True)\n",
    "ax1.hist(in_strength.values(), density = True, bins = 25, color='green', label = 'IN')\n",
    "ax2.hist(out_strength.values(), density = True, bins = 25, color='blue', label = 'OUT')\n",
    "ax1.set_xscale('log')\n",
    "ax2.set_yscale('log')\n",
    "ax1.set_xscale('log')\n",
    "ax2.set_yscale('log')\n",
    "ax1.set_title('IN Strength')\n",
    "ax2.set_title('Out Strength')\n",
    "plt.show()"
   ]
  },
  {
   "cell_type": "markdown",
   "metadata": {},
   "source": [
    "### Q9.  Pearson correlation between the in-degree and the PageRank of (all) nodes\n",
    "\n"
   ]
  },
  {
   "cell_type": "code",
   "execution_count": 18,
   "metadata": {},
   "outputs": [
    {
     "data": {
      "text/plain": [
       "0.8337955545635966"
      ]
     },
     "execution_count": 18,
     "metadata": {},
     "output_type": "execute_result"
    }
   ],
   "source": [
    "pr = nx.pagerank(DG, weight='weight')\n",
    "pr_sequence = list(pr.values())\n",
    "scipy.stats.pearsonr(in_degree_sequence, pr_sequence)[0]"
   ]
  },
  {
   "cell_type": "markdown",
   "metadata": {},
   "source": [
    "## Section 3"
   ]
  },
  {
   "cell_type": "markdown",
   "metadata": {},
   "source": [
    "Please load the dataset `karate_club.graphml` from **Canvas** `Files/Datasets`. Each node in this graph has a 'club' attribute, indicating whether the member followed the instructor (Mr. Hi) or the president (Officer).  \n",
    "\n",
    "\n",
    "\n",
    "\n"
   ]
  },
  {
   "cell_type": "code",
   "execution_count": 19,
   "metadata": {},
   "outputs": [],
   "source": [
    "G = nx.read_graphml('Data/karate_club.graphml')"
   ]
  },
  {
   "cell_type": "code",
   "execution_count": 20,
   "metadata": {
    "scrolled": true
   },
   "outputs": [],
   "source": [
    "g_dict = dict(G.nodes())\n",
    "total_nodes = len(g_dict)\n",
    "total_edges = G.number_of_edges()"
   ]
  },
  {
   "cell_type": "markdown",
   "metadata": {},
   "source": [
    "### Q10. Compute the expected number of links between members of the two groups and within each group, if links can be placed at random\n",
    "\n"
   ]
  },
  {
   "cell_type": "code",
   "execution_count": 21,
   "metadata": {},
   "outputs": [],
   "source": [
    "hi_dict = {}\n",
    "off_dict = {}\n",
    "\n",
    "hi_dict = {k: v for k,v in g_dict.items() if v['club']=='Mr. Hi'}\n",
    "off_dict = {k: v for k,v in g_dict.items() if v['club']=='Officer'}\n",
    "hi_nodes = len(hi_dict)\n",
    "off_nodes = len(off_dict)"
   ]
  },
  {
   "cell_type": "code",
   "execution_count": 22,
   "metadata": {},
   "outputs": [
    {
     "name": "stdout",
     "output_type": "stream",
     "text": [
      "Total number of possible edges = 78\n",
      "Number of Hi Hi connections - baseline =  20.0\n",
      "Number of Officer Officer connections - baseline = 20.0\n",
      "Number of Hi Officer connections - baseline = 39.0\n",
      "Proportion of Hi Officer connections - Total = 0.5\n"
     ]
    }
   ],
   "source": [
    "expected_h_h = round((hi_nodes/total_nodes)*(hi_nodes/total_nodes)*total_edges,0)\n",
    "expected_o_o = round((off_nodes/total_nodes)*(off_nodes/total_nodes)*total_edges,0)\n",
    "expected_h_o = round(2 * (hi_nodes/total_nodes) * (off_nodes/total_nodes) * total_edges,0)\n",
    "print(f'Total number of possible edges = {total_edges}')\n",
    "print(f'Number of Hi Hi connections - baseline =  {expected_h_h}')\n",
    "print(f'Number of Officer Officer connections - baseline = {expected_o_o}')\n",
    "print(f'Number of Hi Officer connections - baseline = {expected_h_o}')\n",
    "print(f'Proportion of Hi Officer connections - Total = {round(expected_h_o/total_edges,3)}')"
   ]
  },
  {
   "cell_type": "markdown",
   "metadata": {},
   "source": [
    "### Q11. Compute the actual number of edges between and within the groups,  and state whether there is evidence of homophily\n",
    "\n"
   ]
  },
  {
   "cell_type": "code",
   "execution_count": 23,
   "metadata": {},
   "outputs": [
    {
     "name": "stdout",
     "output_type": "stream",
     "text": [
      "Total number of actual edges = 78\n",
      "Number of Hi Hi connections - Actual =  35\n",
      "Number of Officer Oficer connections - Actual = 32\n",
      "Number of Hi Officer connections - Actual = 11\n",
      "Proportion of Hi Officer connections - Actual = 0.141\n"
     ]
    }
   ],
   "source": [
    "hi = 0\n",
    "off = 0\n",
    "mix = 0\n",
    "for node1, node2 in G.edges():\n",
    "    if (g_dict[node1]['club'] != g_dict[node2]['club']):\n",
    "        mix += 1\n",
    "    elif (g_dict[node1]['club'] == 'Officer'):\n",
    "        off += 1\n",
    "    else:\n",
    "        hi += 1\n",
    "print(f'Total number of actual edges = {total_edges}')\n",
    "print(f'Number of Hi Hi connections - Actual =  {hi}')\n",
    "print(f'Number of Officer Oficer connections - Actual = {off}')\n",
    "print(f'Number of Hi Officer connections - Actual = {mix}')\n",
    "print(f'Proportion of Hi Officer connections - Actual = {round(mix/total_edges,3)}')"
   ]
  },
  {
   "cell_type": "markdown",
   "metadata": {},
   "source": [
    "###### The proportion of actual cross group edges is less than the expected cross group edges thus proving that homophily bias does exist in the club population."
   ]
  },
  {
   "cell_type": "code",
   "execution_count": null,
   "metadata": {},
   "outputs": [],
   "source": []
  }
 ],
 "metadata": {
  "kernelspec": {
   "display_name": "Python 3",
   "language": "python",
   "name": "python3"
  },
  "language_info": {
   "codemirror_mode": {
    "name": "ipython",
    "version": 3
   },
   "file_extension": ".py",
   "mimetype": "text/x-python",
   "name": "python",
   "nbconvert_exporter": "python",
   "pygments_lexer": "ipython3",
   "version": "3.7.4"
  },
  "toc": {
   "base_numbering": 1,
   "nav_menu": {},
   "number_sections": true,
   "sideBar": true,
   "skip_h1_title": false,
   "title_cell": "Table of Contents",
   "title_sidebar": "Contents",
   "toc_cell": false,
   "toc_position": {},
   "toc_section_display": true,
   "toc_window_display": false
  }
 },
 "nbformat": 4,
 "nbformat_minor": 4
}
