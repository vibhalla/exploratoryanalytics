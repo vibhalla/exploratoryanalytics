{
 "cells": [
  {
   "cell_type": "markdown",
   "metadata": {},
   "source": [
    "## Assignment 4 - Dodds's Small World Experiment"
   ]
  },
  {
   "cell_type": "markdown",
   "metadata": {},
   "source": [
    "###### 1"
   ]
  },
  {
   "cell_type": "markdown",
   "metadata": {},
   "source": [
    "This is a modern world repition of Milgram's experiment where 18 different targets(recipeints) were chosen to receive emails from random senders and the sender could only send the email to their aquantaince who they thought might be connected to the recepient. The authors follow a dilligent methodical approach to identify targets(people who should receive the email as part of the experiment) who are as random as possible ranging from academia in USA to a Software Consultant in India to a policeman in Australia. Similarly the authors chose the original senders(people who initiated the network chain) via online registrations of volunteers thus making it random.\n",
    "\n",
    "They started with 24,163 chains and went on to record data on total 61,168 individuals across 166 countries. As per the typical profile of internet/email users at the time of the experiment half of the users were white, college educated, christian,  middle class professionals from USA. The authors recorded information like, how the sender knew the recepient(socially, professionally etc) and how strong their ties were. Similar information from the recipient was recorded to eliminate the cases where the sender would have searched random people across the internet and sent the email to them.\n",
    "\n",
    "It was observed that the completed chains, the professional ties performed better than the chains established due to familial or friendly relationships(33.9 versus 13.2%) and contained chains that originated via work or higher education. Another observations was that men continued the chain by sending the email to men and women to women. If the target was also of the same gender the instances of chain not being broken went up by 3%.\n",
    "\n",
    "Two major factors that affected the decision of the next person on the chain were i) Geographical proximity to the target ii) Same or similar profession to the target. The initial part of the chain extension was predominantly  due to geographical proximity while the 3rd stage or later it was profession that dominated. The study also found that the affect of highly connected people or hubs was not significant on the chain completion.\n",
    "\n",
    "Only 384 of the nearly 24000 initial messages reached the intended target at an average of 4.05 hops. The study attributed this large percentage of broken chains/incomplete chains to random behavior where the recipient didnt want to participate or did not care to participate as they were not the volunteers who had willining participated. The authors provide their reasoning and mathematical explanantion to prove their above hypothesis.\n",
    "\n",
    "The authors also show how simple factors like the chain length and geographical proximity could affect the chain completion. The perception of easily the target could be reachable also plays a big part in the completion. For e.g. in the study the highest %(44%) of completed chains were where the target was a Professor at a prominent American university and these completed chains to him comprised mostly of college educated American senders.\n",
    "\n",
    "The study concludes that the Network Structure alone does not affect the smal world theory but the individuals that are there in the network, their perceptions, actions and strategies have a major impact.\n"
   ]
  },
  {
   "cell_type": "markdown",
   "metadata": {},
   "source": [
    "###### 2"
   ]
  },
  {
   "cell_type": "markdown",
   "metadata": {},
   "source": [
    "The authors first calculated the average length of the completed chains(which was found to be nearly 4.05). What the authors did was the calculated the maximum likelihood estimate for the attrition rate for chains between steps L and L+1. Then using the observed number of chains that completed at L they calculated the number of chains that would have completed at L+1 with the hypothesis of no attritions. This gave the authors the maximum likelihood length of the chains. Once they plotted the ditribution the estimated the chain lenght to be 7."
   ]
  },
  {
   "cell_type": "markdown",
   "metadata": {},
   "source": [
    "###### 3"
   ]
  },
  {
   "cell_type": "markdown",
   "metadata": {},
   "source": [
    "If I were to run this experiment I would do most of the things in the same way as the authors and may be additionally I would have measured the time taken to complete the chains, this would have helped analyze how deeply people are connected to the internet. I would have also diversified the targets futher across the globe and occupations due to the fact that today the reach of internet is further and farther. "
   ]
  },
  {
   "cell_type": "markdown",
   "metadata": {},
   "source": [
    "###### 4"
   ]
  },
  {
   "cell_type": "markdown",
   "metadata": {},
   "source": [
    "What strikes me most is how easily the experiment was able to show things we do not want to show like gender bias, where we see that men forwarding the chain men and more so when the target was a male. Same scenario is applicable to the females as well."
   ]
  },
  {
   "cell_type": "markdown",
   "metadata": {},
   "source": [
    "###### 5"
   ]
  },
  {
   "cell_type": "markdown",
   "metadata": {},
   "source": [
    "The paper is straightforward and documents things very clearly and precisely. The concepts are clearly explained and easy to understand."
   ]
  },
  {
   "cell_type": "code",
   "execution_count": null,
   "metadata": {},
   "outputs": [],
   "source": []
  }
 ],
 "metadata": {
  "kernelspec": {
   "display_name": "Python 3",
   "language": "python",
   "name": "python3"
  },
  "language_info": {
   "codemirror_mode": {
    "name": "ipython",
    "version": 3
   },
   "file_extension": ".py",
   "mimetype": "text/x-python",
   "name": "python",
   "nbconvert_exporter": "python",
   "pygments_lexer": "ipython3",
   "version": "3.7.4"
  },
  "toc": {
   "base_numbering": 1,
   "nav_menu": {},
   "number_sections": true,
   "sideBar": true,
   "skip_h1_title": false,
   "title_cell": "Table of Contents",
   "title_sidebar": "Contents",
   "toc_cell": false,
   "toc_position": {},
   "toc_section_display": true,
   "toc_window_display": false
  }
 },
 "nbformat": 4,
 "nbformat_minor": 2
}
