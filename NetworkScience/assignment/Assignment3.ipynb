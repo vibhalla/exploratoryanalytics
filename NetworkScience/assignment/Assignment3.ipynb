{
 "cells": [
  {
   "cell_type": "markdown",
   "metadata": {},
   "source": [
    "## Assignment 3\n",
    "By Vishal Bhalla <br>\n",
    "Exploring social networks"
   ]
  },
  {
   "cell_type": "code",
   "execution_count": 1,
   "metadata": {},
   "outputs": [],
   "source": [
    "import networkx as nx\n",
    "import pandas as pd\n",
    "import matplotlib as plt\n",
    "import itertools"
   ]
  },
  {
   "cell_type": "markdown",
   "metadata": {},
   "source": [
    "### Section 1:  High School Network"
   ]
  },
  {
   "cell_type": "code",
   "execution_count": 2,
   "metadata": {},
   "outputs": [],
   "source": [
    "G = nx.read_graphml('Data/highschool_2012.graphml')"
   ]
  },
  {
   "cell_type": "code",
   "execution_count": 3,
   "metadata": {},
   "outputs": [
    {
     "name": "stdout",
     "output_type": "stream",
     "text": [
      "2220\n"
     ]
    }
   ],
   "source": [
    "E = G.number_of_edges()\n",
    "print(E)"
   ]
  },
  {
   "cell_type": "code",
   "execution_count": 4,
   "metadata": {},
   "outputs": [
    {
     "name": "stdout",
     "output_type": "stream",
     "text": [
      "180\n"
     ]
    }
   ],
   "source": [
    "N = G.number_of_nodes()\n",
    "print(N)"
   ]
  },
  {
   "cell_type": "markdown",
   "metadata": {},
   "source": [
    "###### Q1 - Nodes with highest Degree"
   ]
  },
  {
   "cell_type": "code",
   "execution_count": 5,
   "metadata": {},
   "outputs": [
    {
     "name": "stdout",
     "output_type": "stream",
     "text": [
      "Node ['826'] has the degree of 56\n"
     ]
    }
   ],
   "source": [
    "dict_node_deg = dict(G.degree())\n",
    "max_deg = max(dict_node_deg.values())\n",
    "max_node = [k for k,v in dict_node_deg.items() if v == max_deg]\n",
    "print(f'Node {max_node} has the degree of {max_deg}')"
   ]
  },
  {
   "cell_type": "markdown",
   "metadata": {},
   "source": [
    "###### Q2 - Nodes with highest Clustering Co-Efficient"
   ]
  },
  {
   "cell_type": "code",
   "execution_count": 6,
   "metadata": {},
   "outputs": [
    {
     "name": "stdout",
     "output_type": "stream",
     "text": [
      "Node/s ['647', '829'] have the cluster co-efficient of 1.0\n"
     ]
    }
   ],
   "source": [
    "g_cluster = nx.clustering(G)\n",
    "max_coeff = max(g_cluster.values())\n",
    "max_clust_node = [k for k,v in g_cluster.items() if v == max_coeff]\n",
    "print(f'Node/s {max_clust_node} have the cluster co-efficient of {max_coeff}')"
   ]
  },
  {
   "cell_type": "markdown",
   "metadata": {},
   "source": [
    "###### Q3 - Average Clustering Co-Efficient of the graph"
   ]
  },
  {
   "cell_type": "code",
   "execution_count": 7,
   "metadata": {},
   "outputs": [
    {
     "name": "stdout",
     "output_type": "stream",
     "text": [
      "Average clustering co-efficient for the graph is:  0.47520352183217995\n"
     ]
    }
   ],
   "source": [
    "avg_cluster = nx.average_clustering(G)\n",
    "print(f'Average clustering co-efficient for the graph is:  {avg_cluster}')"
   ]
  },
  {
   "cell_type": "markdown",
   "metadata": {},
   "source": [
    "###### Q4 - Homophily"
   ]
  },
  {
   "cell_type": "code",
   "execution_count": 8,
   "metadata": {},
   "outputs": [
    {
     "name": "stdout",
     "output_type": "stream",
     "text": [
      "Off the total 180 students 132 are male and 48 are females\n"
     ]
    }
   ],
   "source": [
    "g_dict = dict(G.nodes())\n",
    "male = 0\n",
    "female = 0\n",
    "male_dict = {}\n",
    "female_dict = {}\n",
    "\n",
    "male_dict = {k: v for k,v in g_dict.items() if v['gender']=='M'}\n",
    "female_dict = {k: v for k,v in g_dict.items() if v['gender']=='F'}\n",
    "\n",
    "male = len(male_dict)\n",
    "female = len(female_dict) \n",
    "\n",
    "print(f'Off the total {N} students {male} are male and {female} are females')"
   ]
  },
  {
   "cell_type": "code",
   "execution_count": 9,
   "metadata": {},
   "outputs": [
    {
     "name": "stdout",
     "output_type": "stream",
     "text": [
      "Total number of possible edges = 16110.0\n",
      "Number of Male Male connections - baseline =  8664.0\n",
      "Number of Female Female connections - baseline = 1146.0\n",
      "Number of Male Female connections - baseline = 6301.0\n",
      "Proportion of Male Female connections - Total = 0.391\n"
     ]
    }
   ],
   "source": [
    "max_edges = (180 * (180 -1))/2\n",
    "expected_m_m = round((132/180)*(132/180)*max_edges,0)\n",
    "expected_f_f = round((48/180)*(48/180)*max_edges,0)\n",
    "expected_m_f = round(2 * (132/180) * (48/180) * max_edges,0)\n",
    "print(f'Total number of possible edges = {max_edges}')\n",
    "print(f'Number of Male Male connections - baseline =  {expected_m_m}')\n",
    "print(f'Number of Female Female connections - baseline = {expected_f_f}')\n",
    "print(f'Number of Male Female connections - baseline = {expected_m_f}')\n",
    "print(f'Proportion of Male Female connections - Total = {round(expected_m_f/max_edges,3)}')"
   ]
  },
  {
   "cell_type": "code",
   "execution_count": 10,
   "metadata": {},
   "outputs": [
    {
     "name": "stdout",
     "output_type": "stream",
     "text": [
      "Total number of actual edges = 2220\n",
      "Number of Male Male connections - Actual =  1276\n",
      "Number of Female Female connections - Actual = 182\n",
      "Number of Male Female connections - Actual = 762\n",
      "Proportion of Male Female connections - Actual = 0.343\n"
     ]
    }
   ],
   "source": [
    "m = 0\n",
    "f = 0\n",
    "mix = 0\n",
    "for node1, node2 in G.edges():\n",
    "    if (g_dict[node1]['gender'] != g_dict[node2]['gender']):\n",
    "        mix += 1\n",
    "    elif (g_dict[node1]['gender'] == 'M'):\n",
    "        m += 1\n",
    "    else:\n",
    "        f += 1\n",
    "print(f'Total number of actual edges = {E}')\n",
    "print(f'Number of Male Male connections - Actual =  {m}')\n",
    "print(f'Number of Female Female connections - Actual = {f}')\n",
    "print(f'Number of Male Female connections - Actual = {mix}')\n",
    "print(f'Proportion of Male Female connections - Actual = {round(mix/E,3)}')"
   ]
  },
  {
   "cell_type": "markdown",
   "metadata": {},
   "source": [
    "###### The proportion of actual cross gender edges is less than the expected cross gender edges thus proving that homophily bias does exist in the highschool population."
   ]
  },
  {
   "cell_type": "code",
   "execution_count": 11,
   "metadata": {},
   "outputs": [
    {
     "data": {
      "text/plain": [
       "'\\nquestion - How does network density come into picture here as number of expcted same gender conenctions \\nor total connections are less too\\n'"
      ]
     },
     "execution_count": 11,
     "metadata": {},
     "output_type": "execute_result"
    }
   ],
   "source": [
    "'''\n",
    "question - How does network density come into picture here as number of expcted same gender conenctions \n",
    "or total connections are less too\n",
    "'''"
   ]
  },
  {
   "cell_type": "markdown",
   "metadata": {},
   "source": [
    "### Section 2: Club Membership Network"
   ]
  },
  {
   "cell_type": "code",
   "execution_count": 12,
   "metadata": {},
   "outputs": [],
   "source": [
    "bG = nx.read_edgelist('Data/club_membership.edgelist')"
   ]
  },
  {
   "cell_type": "code",
   "execution_count": 13,
   "metadata": {},
   "outputs": [
    {
     "name": "stdout",
     "output_type": "stream",
     "text": [
      "95\n"
     ]
    }
   ],
   "source": [
    "bE = bG.number_of_edges()\n",
    "print(bE)"
   ]
  },
  {
   "cell_type": "code",
   "execution_count": 14,
   "metadata": {},
   "outputs": [
    {
     "name": "stdout",
     "output_type": "stream",
     "text": [
      "Mean number of organizational affliations = number of edges/25) = 3.8\n"
     ]
    }
   ],
   "source": [
    "print(f'Mean number of organizational affliations = number of edges/25) = {bE/25}') # 25 is number of people"
   ]
  },
  {
   "cell_type": "code",
   "execution_count": 15,
   "metadata": {},
   "outputs": [
    {
     "name": "stdout",
     "output_type": "stream",
     "text": [
      "Mean number of people per organization = number of edges/15) = 6.333333333333333\n"
     ]
    }
   ],
   "source": [
    "print(f'Mean number of people per organization = number of edges/15) = {bE/15}') # 15 is number of organizations"
   ]
  },
  {
   "cell_type": "markdown",
   "metadata": {},
   "source": [
    "###### Similarity Measure"
   ]
  },
  {
   "cell_type": "code",
   "execution_count": 16,
   "metadata": {},
   "outputs": [
    {
     "name": "stdout",
     "output_type": "stream",
     "text": [
      " The 7 Neighbors of p13: ['o11', 'o6', 'o5', 'o9', 'o7', 'o4', 'o1']\n",
      " The 5 Neighbors of p23: ['o6', 'o1', 'o12', 'o9', 'o15']\n",
      " The 3 common neighbors of p13 and p23: ['o9', 'o1', 'o6']\n",
      " Similarity Measure between p13 and p23: 0.333\n"
     ]
    }
   ],
   "source": [
    "#Consider Nodes p13 and p23\n",
    "p13_deg = bG.degree('p13')\n",
    "p23_deg = bG.degree('p23')\n",
    "p13_neigh = list(bG.neighbors('p13'))\n",
    "p23_neigh = list(bG.neighbors('p23'))\n",
    "common = list(set(p13_neigh).intersection(p23_neigh))\n",
    "print(f' The {p13_deg} Neighbors of p13: {p13_neigh}')\n",
    "print(f' The {p23_deg} Neighbors of p23: {p23_neigh}')\n",
    "print(f' The {len(common)} common neighbors of p13 and p23: {common}')\n",
    "sim_p13_p23 = (len(common)/(p13_deg + p23_deg - len(common)))\n",
    "print(f' Similarity Measure between p13 and p23: {round(sim_p13_p23,3)}')"
   ]
  },
  {
   "cell_type": "markdown",
   "metadata": {},
   "source": [
    "###### Similarity Function"
   ]
  },
  {
   "cell_type": "code",
   "execution_count": 17,
   "metadata": {},
   "outputs": [],
   "source": [
    "def sim_value(iG, inode_1, inode_2):\n",
    "    pnodes = [x for x in iG.nodes() if x.startswith('p')]\n",
    "    onodes = [x for x in iG.nodes() if x.startswith('o')]\n",
    "    inputNodes = [inode_1,inode_2]\n",
    "    if (set(inputNodes).issubset(pnodes) or set(inputNodes).issubset(onodes)):\n",
    "        inode1_neig = list(iG.neighbors(inode_1))\n",
    "        inode2_neig = list(iG.neighbors(inode_2))\n",
    "        cmnNeigh = list(set(inode1_neig).intersection(inode2_neig))\n",
    "        cmnNum = len(cmnNeigh)\n",
    "        return round((cmnNum/(iG.degree(inode_1) + iG.degree(inode_2) - cmnNum)),3)\n",
    "    else:\n",
    "        return \"Both inputs nodes must be from the same side of the bipartite graph\""
   ]
  },
  {
   "cell_type": "code",
   "execution_count": 18,
   "metadata": {},
   "outputs": [
    {
     "data": {
      "text/plain": [
       "0.333"
      ]
     },
     "execution_count": 18,
     "metadata": {},
     "output_type": "execute_result"
    }
   ],
   "source": [
    "sim_value(bG,'p13','p23')"
   ]
  },
  {
   "cell_type": "code",
   "execution_count": 19,
   "metadata": {},
   "outputs": [
    {
     "data": {
      "text/plain": [
       "'Both inputs nodes must be from the same side of the bipartite graph'"
      ]
     },
     "execution_count": 19,
     "metadata": {},
     "output_type": "execute_result"
    }
   ],
   "source": [
    "sim_value(bG,'p13','o3')"
   ]
  },
  {
   "cell_type": "code",
   "execution_count": 20,
   "metadata": {},
   "outputs": [],
   "source": [
    "# Prepare all combination of people and all combination of Orgs\n",
    "people = [x for x in bG.nodes() if x.startswith('p')]\n",
    "orgs = [x for x in bG.nodes() if x.startswith('o')]\n",
    "pplComb = itertools.combinations(people, 2)\n",
    "orgComb = itertools.combinations(orgs, 2)"
   ]
  },
  {
   "cell_type": "code",
   "execution_count": 21,
   "metadata": {},
   "outputs": [],
   "source": [
    "# Create dictionaries with ppl combination and similarity\n",
    "pplDict = {}\n",
    "for p1,p2 in pplComb:\n",
    "    pplDict[(p1,p2)] = sim_value(bG,p1,p2)"
   ]
  },
  {
   "cell_type": "code",
   "execution_count": 22,
   "metadata": {},
   "outputs": [],
   "source": [
    "# Create dictionaries with org combination and similarity\n",
    "orgDict = {}\n",
    "for o1,o2 in orgComb:\n",
    "    orgDict[(o1,o2)] = sim_value(bG,o1,o2)"
   ]
  },
  {
   "cell_type": "code",
   "execution_count": 23,
   "metadata": {
    "scrolled": true
   },
   "outputs": [],
   "source": [
    "orgMax = max(orgDict.keys(), key=(lambda k: orgDict[k]))\n",
    "orgSim = orgDict[orgMax]\n",
    "pplMax = max(pplDict.keys(), key=(lambda k: pplDict[k]))\n",
    "pplSim = pplDict[pplMax]"
   ]
  },
  {
   "cell_type": "code",
   "execution_count": 24,
   "metadata": {},
   "outputs": [
    {
     "name": "stdout",
     "output_type": "stream",
     "text": [
      "The combination of ('o1', 'o5') has highest similarity value 0.524 amongst organizations\n",
      "The combination of ('p22', 'p14') has highest similarity value 0.8 amongst people\n"
     ]
    }
   ],
   "source": [
    "print(f'The combination of {orgMax} has highest similarity value {orgSim} amongst organizations')\n",
    "print(f'The combination of {pplMax} has highest similarity value {pplSim} amongst people')"
   ]
  }
 ],
 "metadata": {
  "kernelspec": {
   "display_name": "Python 3",
   "language": "python",
   "name": "python3"
  },
  "language_info": {
   "codemirror_mode": {
    "name": "ipython",
    "version": 3
   },
   "file_extension": ".py",
   "mimetype": "text/x-python",
   "name": "python",
   "nbconvert_exporter": "python",
   "pygments_lexer": "ipython3",
   "version": "3.7.4"
  },
  "toc": {
   "base_numbering": 1,
   "nav_menu": {},
   "number_sections": true,
   "sideBar": true,
   "skip_h1_title": false,
   "title_cell": "Table of Contents",
   "title_sidebar": "Contents",
   "toc_cell": false,
   "toc_position": {},
   "toc_section_display": true,
   "toc_window_display": false
  }
 },
 "nbformat": 4,
 "nbformat_minor": 2
}
