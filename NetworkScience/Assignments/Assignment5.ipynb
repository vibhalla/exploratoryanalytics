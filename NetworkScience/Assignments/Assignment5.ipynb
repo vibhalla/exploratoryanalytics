{
 "cells": [
  {
   "cell_type": "markdown",
   "metadata": {},
   "source": [
    "# Welcome to Assignment 5\n",
    "There are two parts in this assignment. The conceptual questions could be answered by words, and the coding questions require some computation."
   ]
  },
  {
   "cell_type": "markdown",
   "metadata": {},
   "source": [
    "## Conceptual questions\n",
    "### Q1. Suppose we want to build a connected network with 10 nodes and average degree 1.8, such that the heterogeneity parameter is largest. What does the graph look like?\n",
    "\n",
    "hint: you don't have to use Networkx to construct a network and plot it. A simple description would do :)"
   ]
  },
  {
   "cell_type": "markdown",
   "metadata": {},
   "source": [
    "As we want to keep the heterogenelity parameter to be the highest the network should have hub like structures as that is what will maximize the heterogenelty parameter. For 10 nodes and 1.8 average degree there could be 1 central hub node and all the other nodes are connected to this node. The central node will have the degree of 9 and the other nodes will have degree of 1. When we take an average this will come to (9+1+1+1+1+1+1+1+1+1)/10 = 1.8. So this should be a hub and spokes/ snowflake kind of graph."
   ]
  },
  {
   "cell_type": "markdown",
   "metadata": {},
   "source": [
    "\n",
    "### Q2. Are there networks such that the average number of neighbors of a node’s neighbors match the average degree? If there are, what property must they have?"
   ]
  },
  {
   "cell_type": "markdown",
   "metadata": {},
   "source": [
    "For a node's neighbors to have the same average number of neighbors as the average degree, the network needs to be a fully connected homogenous network where each of the node is connected to every other node. Other option would be a network where each of the node has the same degree i.e. each node is connected to same number of nodes."
   ]
  },
  {
   "cell_type": "markdown",
   "metadata": {},
   "source": [
    "## Coding Questions"
   ]
  },
  {
   "cell_type": "markdown",
   "metadata": {},
   "source": [
    "We will be using **socfb-Northwestern25** network for the following questions. You could find it in the book’s Github repository dataset folder or on Canvas. It is a snapshot of Northwestern University’s Facebook network. The nodes are anonymous users and the links are friend relationships. Load this network into a NetworkX graph in order to answer the following questions. **Be sure to use the proper graph class for an undirected, unweighted network.**"
   ]
  },
  {
   "cell_type": "code",
   "execution_count": 1,
   "metadata": {},
   "outputs": [],
   "source": [
    "import networkx as nx\n",
    "import statistics as stats\n",
    "import matplotlib.pyplot"
   ]
  },
  {
   "cell_type": "code",
   "execution_count": 2,
   "metadata": {},
   "outputs": [],
   "source": [
    "UG = nx.read_edgelist('Data/socfb-Northwestern25.edges',nodetype=int, create_using = nx.Graph())"
   ]
  },
  {
   "cell_type": "code",
   "execution_count": 3,
   "metadata": {},
   "outputs": [
    {
     "name": "stdout",
     "output_type": "stream",
     "text": [
      "The graph has 488337 edges, 10567 nodes and the density is 0.008747567709293077\n"
     ]
    }
   ],
   "source": [
    "E = UG.number_of_edges()\n",
    "N = UG.number_of_nodes()\n",
    "D = nx.density(UG)\n",
    "print(f'The graph has {E} edges, {N} nodes and the density is {D}')"
   ]
  },
  {
   "cell_type": "markdown",
   "metadata": {},
   "source": [
    "### Q3.  What proportion of nodes have degree 100 or greater?\n",
    "hint: ratio of number of nodes having degree no less than 100 divided by the total number of nodes."
   ]
  },
  {
   "cell_type": "code",
   "execution_count": 4,
   "metadata": {},
   "outputs": [
    {
     "name": "stdout",
     "output_type": "stream",
     "text": [
      "Proportion of nodes with degree greater than or equal to 100 is 0.3821330557395666\n"
     ]
    }
   ],
   "source": [
    "deg = dict(UG.degree())\n",
    "deg_100 = sum(int(i) >= 100 for i in deg.values())\n",
    "print(f'Proportion of nodes with degree greater than or equal to 100 is {deg_100/N}')"
   ]
  },
  {
   "cell_type": "markdown",
   "metadata": {},
   "source": [
    "### Q4. What is the maximum degree in this network?"
   ]
  },
  {
   "cell_type": "code",
   "execution_count": 5,
   "metadata": {},
   "outputs": [
    {
     "name": "stdout",
     "output_type": "stream",
     "text": [
      "Max degree value : 2105\n"
     ]
    }
   ],
   "source": [
    "degree_max = max(UG.nodes(),key=UG.degree())\n",
    "max_deg = UG.degree(degree_max)\n",
    "print(\"Max degree value :\",max_deg)"
   ]
  },
  {
   "cell_type": "markdown",
   "metadata": {},
   "source": [
    "### Q5. Users in this network are anonymized by giving the nodes numerical names. Which node has the highest degree?"
   ]
  },
  {
   "cell_type": "code",
   "execution_count": 6,
   "metadata": {},
   "outputs": [
    {
     "name": "stdout",
     "output_type": "stream",
     "text": [
      "Node with Maximum Degree: 8262\n"
     ]
    }
   ],
   "source": [
    "print(\"Node with Maximum Degree:\", degree_max)"
   ]
  },
  {
   "cell_type": "markdown",
   "metadata": {},
   "source": [
    "### Q6. What is 95th percentile for degree, i.e., the value such that 95% of nodes have this degree or less?"
   ]
  },
  {
   "cell_type": "code",
   "execution_count": 7,
   "metadata": {},
   "outputs": [
    {
     "name": "stdout",
     "output_type": "stream",
     "text": [
      "95th percentile of degrees is 244.0\n"
     ]
    }
   ],
   "source": [
    "import numpy as np\n",
    "\n",
    "degree_sequence = [UG.degree(n) for n in UG.nodes]\n",
    "deg_per_95 = np.percentile(degree_sequence, 95)\n",
    "\n",
    "print(f'95th percentile of degrees is {deg_per_95}')"
   ]
  },
  {
   "cell_type": "markdown",
   "metadata": {},
   "source": [
    "### Q7. Is the network assortative or disassortative?"
   ]
  },
  {
   "cell_type": "code",
   "execution_count": 8,
   "metadata": {},
   "outputs": [
    {
     "name": "stdout",
     "output_type": "stream",
     "text": [
      "Network is Associative\n",
      "Assortivity co-efficient of the given network is 0.03444129080710951\n"
     ]
    }
   ],
   "source": [
    "assortivity = nx.degree_assortativity_coefficient(UG)\n",
    "if assortivity >= 0:\n",
    "    print(\"Network is Associative\")\n",
    "else:\n",
    "    print(\"Network if Disassociative\")\n",
    "\n",
    "print(f'Assortivity co-efficient of the given network is {assortivity}')"
   ]
  },
  {
   "cell_type": "markdown",
   "metadata": {},
   "source": [
    "### Q8. What is the mean degree for nodes in this network?"
   ]
  },
  {
   "cell_type": "code",
   "execution_count": 9,
   "metadata": {},
   "outputs": [
    {
     "name": "stdout",
     "output_type": "stream",
     "text": [
      "Mean degrees is 92.427\n"
     ]
    }
   ],
   "source": [
    "deg_mean = np.mean(degree_sequence)\n",
    "\n",
    "print(f'Mean degrees is {round(deg_mean,3)}')"
   ]
  },
  {
   "cell_type": "markdown",
   "metadata": {},
   "source": [
    "### Q9. Which of the following shapes best describes the degree distribution in this network? You can obtain the answer visually using tools we have introduced such as histograms, cumulatives, or log-scale plots.\n",
    "\n",
    "a) Normal  \n",
    "b) Poissonian  \n",
    "c) Power law  \n",
    "d) Exponential  \n",
    "\n",
    "Hint: 1) At least one visualization is needed 2) select your answer from the four options based on your visualizations. "
   ]
  },
  {
   "cell_type": "code",
   "execution_count": 10,
   "metadata": {
    "scrolled": true
   },
   "outputs": [
    {
     "data": {
      "image/png": "[encoded data removed]",
      "text/plain": [
       "<Figure size 432x288 with 1 Axes>"
      ]
     },
     "metadata": {
      "needs_background": "light"
     },
     "output_type": "display_data"
    }
   ],
   "source": [
    "from matplotlib import pyplot\n",
    "\n",
    "pyplot.hist(degree_sequence, density=True, bins = 50, color='red')\n",
    "pyplot.xlabel('Degrees')\n",
    "pyplot.ylabel('Frequency')\n",
    "pyplot.title('Degree Distribution')\n",
    "\n",
    "pyplot.show()"
   ]
  },
  {
   "cell_type": "code",
   "execution_count": 11,
   "metadata": {},
   "outputs": [
    {
     "data": {
      "image/png": "[encoded data removed]",
      "text/plain": [
       "<Figure size 432x288 with 1 Axes>"
      ]
     },
     "metadata": {
      "needs_background": "light"
     },
     "output_type": "display_data"
    }
   ],
   "source": [
    "pyplot.hist(degree_sequence, density=True, bins = 50, color='blue')\n",
    "pyplot.xlabel('Degrees')\n",
    "pyplot.ylabel('Frequency')\n",
    "pyplot.title('Degree Distribution - Log scale')\n",
    "pyplot.xscale('log')\n",
    "pyplot.yscale('log')\n",
    "pyplot.show()"
   ]
  },
  {
   "cell_type": "markdown",
   "metadata": {},
   "source": [
    "From the histogram the distribution seems to be either power law distribution or an exponential distribution however by looking at the log scale plot it certainly looks like it is a power law distribution."
   ]
  },
  {
   "cell_type": "code",
   "execution_count": null,
   "metadata": {},
   "outputs": [],
   "source": []
  }
 ],
 "metadata": {
  "kernelspec": {
   "display_name": "Python 3",
   "language": "python",
   "name": "python3"
  },
  "language_info": {
   "codemirror_mode": {
    "name": "ipython",
    "version": 3
   },
   "file_extension": ".py",
   "mimetype": "text/x-python",
   "name": "python",
   "nbconvert_exporter": "python",
   "pygments_lexer": "ipython3",
   "version": "3.6.5"
  },
  "toc": {
   "base_numbering": 1,
   "nav_menu": {},
   "number_sections": true,
   "sideBar": true,
   "skip_h1_title": false,
   "title_cell": "Table of Contents",
   "title_sidebar": "Contents",
   "toc_cell": false,
   "toc_position": {},
   "toc_section_display": true,
   "toc_window_display": false
  }
 },
 "nbformat": 4,
 "nbformat_minor": 4
}
