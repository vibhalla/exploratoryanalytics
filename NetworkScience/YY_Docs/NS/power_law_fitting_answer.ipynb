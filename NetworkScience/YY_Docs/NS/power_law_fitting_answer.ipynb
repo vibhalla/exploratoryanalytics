{
 "cells": [
  {
   "cell_type": "markdown",
   "metadata": {},
   "source": [
    "# Praxis: Fitting power-laws to data\n",
    "In this assigment we will be combining what we learned this week to fit a power-law to some data and then visualize both the power-law and the fit.\n",
    "\n",
    "## (1) Getting the data\n",
    "First we need to generate some data to fit to. We will use the degree distribution from the Barabasi-Albert graph because we know that it is power-law distributed. Create a BA graph using networkx with `n = 2500` and `m = 8` (adjust `n` or `m` if your computer has difficulty creating the graph ).\n",
    "\n",
    "Then build a list/array of the node degrees."
   ]
  },
  {
   "cell_type": "code",
   "execution_count": null,
   "metadata": {
    "collapsed": false
   },
   "outputs": [],
   "source": [
    "import networkx as nx\n",
    "import powerlaw\n",
    "import numpy as np\n",
    "\n",
    "sf_graph = nx.barabasi_albert_graph(2500, 8, seed=8)\n",
    "degree_distribution = np.array([ sf_graph.degree(node) for node in sf_graph ])"
   ]
  },
  {
   "cell_type": "markdown",
   "metadata": {},
   "source": [
    "## (2) Find the power-law cut-off\n",
    "It is normally the case in power-law distributed data that there is a value below which the power-law relation does not hold. We will express this value as `xmin`. In order to fit the scaling exponent, we first need to estimate `xmin` and then discard all values in the distribution below it.\n",
    "\n",
    "Since calculating the optimal `xmin` can be a challenge in itself, you can use Aaron Clauset's [powerlaw](http://tuvalu.santafe.edu/~aaronc/powerlaws/) package to determine `xmin`. The package can be installed using pip from the commandline: `pip install powerlaw`\n",
    "\n",
    "The package should then be available for import:\n",
    "\n",
    "```\n",
    "import powerlaw\n",
    "```\n",
    "\n",
    "And can be called using (see [documentation for additional arguments](http://arxiv.org/pdf/1305.0215v3.pdf)):\n",
    "\n",
    "```\n",
    "fit = powerlaw.Fit(some_data) \n",
    "print(fit.xmin)\n",
    "```\n",
    "\n",
    "Alternatively, you can get a rough estimate of the cut-off yourself by visualizing the power-law."
   ]
  },
  {
   "cell_type": "code",
   "execution_count": null,
   "metadata": {
    "collapsed": false
   },
   "outputs": [],
   "source": [
    "fit = powerlaw.Fit(degree_distribution)\n",
    "xmin = fit.xmin\n",
    "print(xmin)"
   ]
  },
  {
   "cell_type": "markdown",
   "metadata": {},
   "source": [
    "## (3) Find scaling exponent\n",
    "With the data available and `xmin` estimated we can now estimate the scaling exponent for our degree distribution. Use the maximum-likelihood approach to estimate the scaling exponent (see equation 3.7 from [the reading](https://iu.instructure.com/courses/1564562/files/64585579?module_item_id=15083021))."
   ]
  },
  {
   "cell_type": "code",
   "execution_count": null,
   "metadata": {
    "collapsed": false
   },
   "outputs": [],
   "source": [
    "def discrete_estimator(distribution, cutoff):\n",
    "    cut_distribution = distribution[distribution > cutoff ]\n",
    "    return 1 + len(cut_distribution) / np.sum([ np.log(val / (cutoff - 0.5)) \n",
    "                                           for val in cut_distribution ])\n",
    "\n",
    "scaling_exp = discrete_estimator(degree_distribution, xmin)\n",
    "print(scaling_exp)\n",
    "print(fit.power_law.alpha)\n",
    "print(fit.power_law.xmin)"
   ]
  },
  {
   "cell_type": "markdown",
   "metadata": {},
   "source": [
    "## (4) Visualize the power-law\n",
    "Plot the CCDF of the power-law along with a best-fit line made using your estimated scaling exponent. If the fit is good, it should fall right on-top of the data-points on the CCDF plot."
   ]
  },
  {
   "cell_type": "code",
   "execution_count": null,
   "metadata": {
    "collapsed": true
   },
   "outputs": [],
   "source": [
    "%matplotlib inline\n",
    "import matplotlib.pyplot as plt\n",
    "def ecdf(data):\n",
    "\n",
    "    data = np.sort(data)\n",
    "    size = float(len(data))\n",
    "    all_unique = not( any( data[:-1]==data[1:] ) )\n",
    "    if all_unique:\n",
    "        cdf = np.array([ i / size for i in range(0,len(data)) ])\n",
    "    else:\n",
    "        cdf = np.searchsorted(data, data,side='left')/size\n",
    "        unique_data, unique_indices = np.unique(data, return_index=True)\n",
    "        data=unique_data\n",
    "        cdf = cdf[unique_indices]\n",
    "\n",
    "    return data, cdf\n",
    "\n",
    "def eccdf(data):\n",
    "\n",
    "    sorted_data, cdf = ecdf(data)\n",
    "    return sorted_data, 1. - cdf\n",
    "\n",
    "def plot_ccdf(data, xlabel='', x_log=False, y_log=False):\n",
    "\n",
    "    x, y = eccdf(data)\n",
    "    plt.clf()\n",
    "    plt.plot(x, y, 'b-')\n",
    "    if x_log == True: plt.xscale('log')\n",
    "    if y_log == True: plt.yscale('log')\n",
    "    plt.ylabel('CCDF')\n",
    "    plt.xlabel('degree')\n",
    "    plt.show()"
   ]
  },
  {
   "cell_type": "code",
   "execution_count": null,
   "metadata": {
    "collapsed": false
   },
   "outputs": [],
   "source": [
    "plot_ccdf(degree_distribution, x_log=True, y_log=True)"
   ]
  },
  {
   "cell_type": "code",
   "execution_count": null,
   "metadata": {
    "collapsed": false
   },
   "outputs": [],
   "source": [
    "def plot_ccdf(data, alpha, x_min, x_log=False, y_log=False):\n",
    "\n",
    "    # Empirical\n",
    "    x, y = eccdf(data)\n",
    "    \n",
    "    # Model\n",
    "    cut_x = x[x > x_min]\n",
    "    my = np.power(x / x_min, -alpha+1)\n",
    "    \n",
    "    plt.clf()\n",
    "    plt.plot(x, y, 'bo')\n",
    "    plt.plot(x, my, ls='-', color='red', lw=2)\n",
    "    if x_log == True: plt.xscale('log')\n",
    "    if y_log == True: plt.yscale('log')\n",
    "    plt.ylabel('CCDF')\n",
    "    plt.xlabel('degree')\n",
    "    plt.show()\n",
    "    \n",
    "plot_ccdf(degree_distribution, scaling_exp, xmin, x_log=True, y_log=True)"
   ]
  },
  {
   "cell_type": "code",
   "execution_count": null,
   "metadata": {
    "collapsed": true
   },
   "outputs": [],
   "source": []
  }
 ],
 "metadata": {
  "anaconda-cloud": {},
  "kernelspec": {
   "display_name": "Python 3",
   "language": "python",
   "name": "python3"
  },
  "language_info": {
   "codemirror_mode": {
    "name": "ipython",
    "version": 3
   },
   "file_extension": ".py",
   "mimetype": "text/x-python",
   "name": "python",
   "nbconvert_exporter": "python",
   "pygments_lexer": "ipython3",
   "version": "3.6.7"
  }
 },
 "nbformat": 4,
 "nbformat_minor": 2
}
